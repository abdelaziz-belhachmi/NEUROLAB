{
 "cells": [
  {
   "cell_type": "code",
   "execution_count": 1,
   "metadata": {
    "ExecuteTime": {
     "end_time": "2025-04-06T23:29:40.036794800Z",
     "start_time": "2025-04-06T23:29:30.957202900Z"
    }
   },
   "outputs": [],
   "source": [
    "import pandas as pd \n",
    "import numpy as np\n",
    "from sklearn.preprocessing import LabelEncoder,OneHotEncoder\n",
    "from sklearn.model_selection import train_test_split\n",
    "from imblearn.over_sampling import SMOTE \n",
    "import matplotlib.pyplot as plt\n",
    "import seaborn as sns\n",
    "from sklearn.preprocessing import StandardScaler"
   ]
  },
  {
   "cell_type": "code",
   "execution_count": 2,
   "metadata": {
    "ExecuteTime": {
     "end_time": "2025-04-06T23:29:40.549945700Z",
     "start_time": "2025-04-06T23:29:40.045783Z"
    }
   },
   "outputs": [
    {
     "data": {
      "text/plain": "       Patient ID       Patient Name  Age  Gender  Hypertension  \\\n0           18153    Mamooty Khurana   56    Male             0   \n1           62749  Kaira Subramaniam   80    Male             0   \n2           32145      Dhanush Balan   26    Male             1   \n3            6154        Ivana Baral   73    Male             0   \n4           48973  Darshit Jayaraman   51    Male             1   \n...           ...                ...  ...     ...           ...   \n14995       13981          Keya Iyer   88  Female             1   \n14996       87707       Anahita Virk   47  Female             0   \n14997       33174         Ivana Kaur   35    Male             0   \n14998       22343        Anvi Mannan   73    Male             0   \n14999       11066      Gokul Trivedi   64  Female             0   \n\n       Heart Disease Marital Status       Work Type Residence Type  \\\n0                  1        Married   Self-employed          Rural   \n1                  0         Single   Self-employed          Urban   \n2                  1        Married    Never Worked          Rural   \n3                  0        Married    Never Worked          Urban   \n4                  1       Divorced   Self-employed          Urban   \n...              ...            ...             ...            ...   \n14995              1       Divorced   Self-employed          Urban   \n14996              0        Married         Private          Urban   \n14997              0        Married  Government Job          Rural   \n14998              0         Single   Self-employed          Urban   \n14999              0         Single    Never Worked          Urban   \n\n       Average Glucose Level  ...    Alcohol Intake Physical Activity  \\\n0                     130.91  ...    Social Drinker          Moderate   \n1                     183.73  ...             Never               Low   \n2                     189.00  ...            Rarely              High   \n3                     185.29  ...  Frequent Drinker          Moderate   \n4                     177.34  ...            Rarely               Low   \n...                      ...  ...               ...               ...   \n14995                 160.22  ...    Social Drinker              High   \n14996                 107.58  ...             Never               Low   \n14997                 134.90  ...            Rarely              High   \n14998                 169.42  ...             Never              High   \n14999                 186.88  ...            Rarely          Moderate   \n\n      Stroke History Family History of Stroke  Dietary Habits Stress Levels  \\\n0                  0                      Yes           Vegan          3.48   \n1                  0                       No           Paleo          1.73   \n2                  0                      Yes           Paleo          7.31   \n3                  0                       No           Paleo          5.35   \n4                  0                      Yes     Pescatarian          6.84   \n...              ...                      ...             ...           ...   \n14995              0                       No           Paleo          1.12   \n14996              1                       No     Gluten-Free          1.47   \n14997              1                       No           Paleo          0.51   \n14998              0                      Yes           Paleo          1.53   \n14999              0                       No           Vegan          4.57   \n\n      Blood Pressure Levels  Cholesterol Levels  \\\n0                   140/108   HDL: 68, LDL: 133   \n1                    146/91    HDL: 63, LDL: 70   \n2                    154/97    HDL: 59, LDL: 95   \n3                    174/81   HDL: 70, LDL: 137   \n4                    121/95    HDL: 65, LDL: 68   \n...                     ...                 ...   \n14995                171/92   HDL: 44, LDL: 153   \n14996                155/71   HDL: 35, LDL: 183   \n14997               121/110   HDL: 57, LDL: 159   \n14998                157/74    HDL: 79, LDL: 91   \n14999                133/81   HDL: 78, LDL: 179   \n\n                                                Symptoms  Diagnosis  \n0                          Difficulty Speaking, Headache     Stroke  \n1        Loss of Balance, Headache, Dizziness, Confusion     Stroke  \n2                                    Seizures, Dizziness     Stroke  \n3      Seizures, Blurred Vision, Severe Fatigue, Head...  No Stroke  \n4                                    Difficulty Speaking     Stroke  \n...                                                  ...        ...  \n14995                                                NaN  No Stroke  \n14996                                Difficulty Speaking  No Stroke  \n14997      Difficulty Speaking, Severe Fatigue, Headache     Stroke  \n14998  Severe Fatigue, Numbness, Confusion, Dizziness...  No Stroke  \n14999                                           Headache     Stroke  \n\n[15000 rows x 22 columns]",
      "text/html": "<div>\n<style scoped>\n    .dataframe tbody tr th:only-of-type {\n        vertical-align: middle;\n    }\n\n    .dataframe tbody tr th {\n        vertical-align: top;\n    }\n\n    .dataframe thead th {\n        text-align: right;\n    }\n</style>\n<table border=\"1\" class=\"dataframe\">\n  <thead>\n    <tr style=\"text-align: right;\">\n      <th></th>\n      <th>Patient ID</th>\n      <th>Patient Name</th>\n      <th>Age</th>\n      <th>Gender</th>\n      <th>Hypertension</th>\n      <th>Heart Disease</th>\n      <th>Marital Status</th>\n      <th>Work Type</th>\n      <th>Residence Type</th>\n      <th>Average Glucose Level</th>\n      <th>...</th>\n      <th>Alcohol Intake</th>\n      <th>Physical Activity</th>\n      <th>Stroke History</th>\n      <th>Family History of Stroke</th>\n      <th>Dietary Habits</th>\n      <th>Stress Levels</th>\n      <th>Blood Pressure Levels</th>\n      <th>Cholesterol Levels</th>\n      <th>Symptoms</th>\n      <th>Diagnosis</th>\n    </tr>\n  </thead>\n  <tbody>\n    <tr>\n      <th>0</th>\n      <td>18153</td>\n      <td>Mamooty Khurana</td>\n      <td>56</td>\n      <td>Male</td>\n      <td>0</td>\n      <td>1</td>\n      <td>Married</td>\n      <td>Self-employed</td>\n      <td>Rural</td>\n      <td>130.91</td>\n      <td>...</td>\n      <td>Social Drinker</td>\n      <td>Moderate</td>\n      <td>0</td>\n      <td>Yes</td>\n      <td>Vegan</td>\n      <td>3.48</td>\n      <td>140/108</td>\n      <td>HDL: 68, LDL: 133</td>\n      <td>Difficulty Speaking, Headache</td>\n      <td>Stroke</td>\n    </tr>\n    <tr>\n      <th>1</th>\n      <td>62749</td>\n      <td>Kaira Subramaniam</td>\n      <td>80</td>\n      <td>Male</td>\n      <td>0</td>\n      <td>0</td>\n      <td>Single</td>\n      <td>Self-employed</td>\n      <td>Urban</td>\n      <td>183.73</td>\n      <td>...</td>\n      <td>Never</td>\n      <td>Low</td>\n      <td>0</td>\n      <td>No</td>\n      <td>Paleo</td>\n      <td>1.73</td>\n      <td>146/91</td>\n      <td>HDL: 63, LDL: 70</td>\n      <td>Loss of Balance, Headache, Dizziness, Confusion</td>\n      <td>Stroke</td>\n    </tr>\n    <tr>\n      <th>2</th>\n      <td>32145</td>\n      <td>Dhanush Balan</td>\n      <td>26</td>\n      <td>Male</td>\n      <td>1</td>\n      <td>1</td>\n      <td>Married</td>\n      <td>Never Worked</td>\n      <td>Rural</td>\n      <td>189.00</td>\n      <td>...</td>\n      <td>Rarely</td>\n      <td>High</td>\n      <td>0</td>\n      <td>Yes</td>\n      <td>Paleo</td>\n      <td>7.31</td>\n      <td>154/97</td>\n      <td>HDL: 59, LDL: 95</td>\n      <td>Seizures, Dizziness</td>\n      <td>Stroke</td>\n    </tr>\n    <tr>\n      <th>3</th>\n      <td>6154</td>\n      <td>Ivana Baral</td>\n      <td>73</td>\n      <td>Male</td>\n      <td>0</td>\n      <td>0</td>\n      <td>Married</td>\n      <td>Never Worked</td>\n      <td>Urban</td>\n      <td>185.29</td>\n      <td>...</td>\n      <td>Frequent Drinker</td>\n      <td>Moderate</td>\n      <td>0</td>\n      <td>No</td>\n      <td>Paleo</td>\n      <td>5.35</td>\n      <td>174/81</td>\n      <td>HDL: 70, LDL: 137</td>\n      <td>Seizures, Blurred Vision, Severe Fatigue, Head...</td>\n      <td>No Stroke</td>\n    </tr>\n    <tr>\n      <th>4</th>\n      <td>48973</td>\n      <td>Darshit Jayaraman</td>\n      <td>51</td>\n      <td>Male</td>\n      <td>1</td>\n      <td>1</td>\n      <td>Divorced</td>\n      <td>Self-employed</td>\n      <td>Urban</td>\n      <td>177.34</td>\n      <td>...</td>\n      <td>Rarely</td>\n      <td>Low</td>\n      <td>0</td>\n      <td>Yes</td>\n      <td>Pescatarian</td>\n      <td>6.84</td>\n      <td>121/95</td>\n      <td>HDL: 65, LDL: 68</td>\n      <td>Difficulty Speaking</td>\n      <td>Stroke</td>\n    </tr>\n    <tr>\n      <th>...</th>\n      <td>...</td>\n      <td>...</td>\n      <td>...</td>\n      <td>...</td>\n      <td>...</td>\n      <td>...</td>\n      <td>...</td>\n      <td>...</td>\n      <td>...</td>\n      <td>...</td>\n      <td>...</td>\n      <td>...</td>\n      <td>...</td>\n      <td>...</td>\n      <td>...</td>\n      <td>...</td>\n      <td>...</td>\n      <td>...</td>\n      <td>...</td>\n      <td>...</td>\n      <td>...</td>\n    </tr>\n    <tr>\n      <th>14995</th>\n      <td>13981</td>\n      <td>Keya Iyer</td>\n      <td>88</td>\n      <td>Female</td>\n      <td>1</td>\n      <td>1</td>\n      <td>Divorced</td>\n      <td>Self-employed</td>\n      <td>Urban</td>\n      <td>160.22</td>\n      <td>...</td>\n      <td>Social Drinker</td>\n      <td>High</td>\n      <td>0</td>\n      <td>No</td>\n      <td>Paleo</td>\n      <td>1.12</td>\n      <td>171/92</td>\n      <td>HDL: 44, LDL: 153</td>\n      <td>NaN</td>\n      <td>No Stroke</td>\n    </tr>\n    <tr>\n      <th>14996</th>\n      <td>87707</td>\n      <td>Anahita Virk</td>\n      <td>47</td>\n      <td>Female</td>\n      <td>0</td>\n      <td>0</td>\n      <td>Married</td>\n      <td>Private</td>\n      <td>Urban</td>\n      <td>107.58</td>\n      <td>...</td>\n      <td>Never</td>\n      <td>Low</td>\n      <td>1</td>\n      <td>No</td>\n      <td>Gluten-Free</td>\n      <td>1.47</td>\n      <td>155/71</td>\n      <td>HDL: 35, LDL: 183</td>\n      <td>Difficulty Speaking</td>\n      <td>No Stroke</td>\n    </tr>\n    <tr>\n      <th>14997</th>\n      <td>33174</td>\n      <td>Ivana Kaur</td>\n      <td>35</td>\n      <td>Male</td>\n      <td>0</td>\n      <td>0</td>\n      <td>Married</td>\n      <td>Government Job</td>\n      <td>Rural</td>\n      <td>134.90</td>\n      <td>...</td>\n      <td>Rarely</td>\n      <td>High</td>\n      <td>1</td>\n      <td>No</td>\n      <td>Paleo</td>\n      <td>0.51</td>\n      <td>121/110</td>\n      <td>HDL: 57, LDL: 159</td>\n      <td>Difficulty Speaking, Severe Fatigue, Headache</td>\n      <td>Stroke</td>\n    </tr>\n    <tr>\n      <th>14998</th>\n      <td>22343</td>\n      <td>Anvi Mannan</td>\n      <td>73</td>\n      <td>Male</td>\n      <td>0</td>\n      <td>0</td>\n      <td>Single</td>\n      <td>Self-employed</td>\n      <td>Urban</td>\n      <td>169.42</td>\n      <td>...</td>\n      <td>Never</td>\n      <td>High</td>\n      <td>0</td>\n      <td>Yes</td>\n      <td>Paleo</td>\n      <td>1.53</td>\n      <td>157/74</td>\n      <td>HDL: 79, LDL: 91</td>\n      <td>Severe Fatigue, Numbness, Confusion, Dizziness...</td>\n      <td>No Stroke</td>\n    </tr>\n    <tr>\n      <th>14999</th>\n      <td>11066</td>\n      <td>Gokul Trivedi</td>\n      <td>64</td>\n      <td>Female</td>\n      <td>0</td>\n      <td>0</td>\n      <td>Single</td>\n      <td>Never Worked</td>\n      <td>Urban</td>\n      <td>186.88</td>\n      <td>...</td>\n      <td>Rarely</td>\n      <td>Moderate</td>\n      <td>0</td>\n      <td>No</td>\n      <td>Vegan</td>\n      <td>4.57</td>\n      <td>133/81</td>\n      <td>HDL: 78, LDL: 179</td>\n      <td>Headache</td>\n      <td>Stroke</td>\n    </tr>\n  </tbody>\n</table>\n<p>15000 rows × 22 columns</p>\n</div>"
     },
     "execution_count": 2,
     "metadata": {},
     "output_type": "execute_result"
    }
   ],
   "source": [
    "df=pd.read_csv(\"../../media/data/stroke_detailed.csv\")\n",
    "df"
   ]
  },
  {
   "cell_type": "code",
   "execution_count": 3,
   "metadata": {
    "ExecuteTime": {
     "end_time": "2025-04-06T23:29:40.566403900Z",
     "start_time": "2025-04-06T23:29:40.545730Z"
    }
   },
   "outputs": [],
   "source": [
    "df=df.drop(['Patient ID','Patient Name'],axis=1)"
   ]
  },
  {
   "cell_type": "code",
   "execution_count": 4,
   "metadata": {
    "ExecuteTime": {
     "end_time": "2025-04-06T23:29:40.885558800Z",
     "start_time": "2025-04-06T23:29:40.572632500Z"
    }
   },
   "outputs": [
    {
     "data": {
      "text/plain": "                Age  Hypertension  Heart Disease  Average Glucose Level  \\\ncount  15000.000000  15000.000000   15000.000000           15000.000000   \nmean      54.035667      0.249000       0.502933             129.445209   \nstd       21.063111      0.432448       0.500008              40.487792   \nmin       18.000000      0.000000       0.000000              60.000000   \n25%       36.000000      0.000000       0.000000              94.517500   \n50%       54.000000      0.000000       1.000000             128.900000   \n75%       72.000000      0.000000       1.000000             164.592500   \nmax       90.000000      1.000000       1.000000             200.000000   \n\n       Body Mass Index (BMI)  Stroke History  Stress Levels  \ncount           15000.000000    15000.000000   15000.000000  \nmean               27.474302        0.500267       5.022694  \nstd                 7.230201        0.500017       2.873223  \nmin                15.010000        0.000000       0.000000  \n25%                21.160000        0.000000       2.540000  \n50%                27.420000        1.000000       5.050000  \n75%                33.720000        1.000000       7.520000  \nmax                40.000000        1.000000      10.000000  ",
      "text/html": "<div>\n<style scoped>\n    .dataframe tbody tr th:only-of-type {\n        vertical-align: middle;\n    }\n\n    .dataframe tbody tr th {\n        vertical-align: top;\n    }\n\n    .dataframe thead th {\n        text-align: right;\n    }\n</style>\n<table border=\"1\" class=\"dataframe\">\n  <thead>\n    <tr style=\"text-align: right;\">\n      <th></th>\n      <th>Age</th>\n      <th>Hypertension</th>\n      <th>Heart Disease</th>\n      <th>Average Glucose Level</th>\n      <th>Body Mass Index (BMI)</th>\n      <th>Stroke History</th>\n      <th>Stress Levels</th>\n    </tr>\n  </thead>\n  <tbody>\n    <tr>\n      <th>count</th>\n      <td>15000.000000</td>\n      <td>15000.000000</td>\n      <td>15000.000000</td>\n      <td>15000.000000</td>\n      <td>15000.000000</td>\n      <td>15000.000000</td>\n      <td>15000.000000</td>\n    </tr>\n    <tr>\n      <th>mean</th>\n      <td>54.035667</td>\n      <td>0.249000</td>\n      <td>0.502933</td>\n      <td>129.445209</td>\n      <td>27.474302</td>\n      <td>0.500267</td>\n      <td>5.022694</td>\n    </tr>\n    <tr>\n      <th>std</th>\n      <td>21.063111</td>\n      <td>0.432448</td>\n      <td>0.500008</td>\n      <td>40.487792</td>\n      <td>7.230201</td>\n      <td>0.500017</td>\n      <td>2.873223</td>\n    </tr>\n    <tr>\n      <th>min</th>\n      <td>18.000000</td>\n      <td>0.000000</td>\n      <td>0.000000</td>\n      <td>60.000000</td>\n      <td>15.010000</td>\n      <td>0.000000</td>\n      <td>0.000000</td>\n    </tr>\n    <tr>\n      <th>25%</th>\n      <td>36.000000</td>\n      <td>0.000000</td>\n      <td>0.000000</td>\n      <td>94.517500</td>\n      <td>21.160000</td>\n      <td>0.000000</td>\n      <td>2.540000</td>\n    </tr>\n    <tr>\n      <th>50%</th>\n      <td>54.000000</td>\n      <td>0.000000</td>\n      <td>1.000000</td>\n      <td>128.900000</td>\n      <td>27.420000</td>\n      <td>1.000000</td>\n      <td>5.050000</td>\n    </tr>\n    <tr>\n      <th>75%</th>\n      <td>72.000000</td>\n      <td>0.000000</td>\n      <td>1.000000</td>\n      <td>164.592500</td>\n      <td>33.720000</td>\n      <td>1.000000</td>\n      <td>7.520000</td>\n    </tr>\n    <tr>\n      <th>max</th>\n      <td>90.000000</td>\n      <td>1.000000</td>\n      <td>1.000000</td>\n      <td>200.000000</td>\n      <td>40.000000</td>\n      <td>1.000000</td>\n      <td>10.000000</td>\n    </tr>\n  </tbody>\n</table>\n</div>"
     },
     "execution_count": 4,
     "metadata": {},
     "output_type": "execute_result"
    }
   ],
   "source": [
    "df.describe()"
   ]
  },
  {
   "cell_type": "code",
   "execution_count": 5,
   "metadata": {
    "ExecuteTime": {
     "end_time": "2025-04-06T23:29:41.620497800Z",
     "start_time": "2025-04-06T23:29:40.710122500Z"
    }
   },
   "outputs": [
    {
     "data": {
      "text/plain": "   Age Gender  Hypertension  Heart Disease Marital Status      Work Type  \\\n0   56   Male             0              1        Married  Self-employed   \n1   80   Male             0              0         Single  Self-employed   \n2   26   Male             1              1        Married   Never Worked   \n3   73   Male             0              0        Married   Never Worked   \n4   51   Male             1              1       Divorced  Self-employed   \n\n  Residence Type  Average Glucose Level  Body Mass Index (BMI)  \\\n0          Rural                 130.91                  22.37   \n1          Urban                 183.73                  32.57   \n2          Rural                 189.00                  20.32   \n3          Urban                 185.29                  27.50   \n4          Urban                 177.34                  29.06   \n\n     Smoking Status  ... Physical Activity Stroke History  \\\n0        Non-smoker  ...          Moderate              0   \n1        Non-smoker  ...               Low              0   \n2   Formerly Smoked  ...              High              0   \n3        Non-smoker  ...          Moderate              0   \n4  Currently Smokes  ...               Low              0   \n\n   Family History of Stroke Dietary Habits Stress Levels  \\\n0                       Yes          Vegan          3.48   \n1                        No          Paleo          1.73   \n2                       Yes          Paleo          7.31   \n3                        No          Paleo          5.35   \n4                       Yes    Pescatarian          6.84   \n\n   Blood Pressure Levels                                           Symptoms  \\\n0                140/108                      Difficulty Speaking, Headache   \n1                 146/91    Loss of Balance, Headache, Dizziness, Confusion   \n2                 154/97                                Seizures, Dizziness   \n3                 174/81  Seizures, Blurred Vision, Severe Fatigue, Head...   \n4                 121/95                                Difficulty Speaking   \n\n   Diagnosis HDL  LDL  \n0     Stroke  68  133  \n1     Stroke  63   70  \n2     Stroke  59   95  \n3  No Stroke  70  137  \n4     Stroke  65   68  \n\n[5 rows x 21 columns]",
      "text/html": "<div>\n<style scoped>\n    .dataframe tbody tr th:only-of-type {\n        vertical-align: middle;\n    }\n\n    .dataframe tbody tr th {\n        vertical-align: top;\n    }\n\n    .dataframe thead th {\n        text-align: right;\n    }\n</style>\n<table border=\"1\" class=\"dataframe\">\n  <thead>\n    <tr style=\"text-align: right;\">\n      <th></th>\n      <th>Age</th>\n      <th>Gender</th>\n      <th>Hypertension</th>\n      <th>Heart Disease</th>\n      <th>Marital Status</th>\n      <th>Work Type</th>\n      <th>Residence Type</th>\n      <th>Average Glucose Level</th>\n      <th>Body Mass Index (BMI)</th>\n      <th>Smoking Status</th>\n      <th>...</th>\n      <th>Physical Activity</th>\n      <th>Stroke History</th>\n      <th>Family History of Stroke</th>\n      <th>Dietary Habits</th>\n      <th>Stress Levels</th>\n      <th>Blood Pressure Levels</th>\n      <th>Symptoms</th>\n      <th>Diagnosis</th>\n      <th>HDL</th>\n      <th>LDL</th>\n    </tr>\n  </thead>\n  <tbody>\n    <tr>\n      <th>0</th>\n      <td>56</td>\n      <td>Male</td>\n      <td>0</td>\n      <td>1</td>\n      <td>Married</td>\n      <td>Self-employed</td>\n      <td>Rural</td>\n      <td>130.91</td>\n      <td>22.37</td>\n      <td>Non-smoker</td>\n      <td>...</td>\n      <td>Moderate</td>\n      <td>0</td>\n      <td>Yes</td>\n      <td>Vegan</td>\n      <td>3.48</td>\n      <td>140/108</td>\n      <td>Difficulty Speaking, Headache</td>\n      <td>Stroke</td>\n      <td>68</td>\n      <td>133</td>\n    </tr>\n    <tr>\n      <th>1</th>\n      <td>80</td>\n      <td>Male</td>\n      <td>0</td>\n      <td>0</td>\n      <td>Single</td>\n      <td>Self-employed</td>\n      <td>Urban</td>\n      <td>183.73</td>\n      <td>32.57</td>\n      <td>Non-smoker</td>\n      <td>...</td>\n      <td>Low</td>\n      <td>0</td>\n      <td>No</td>\n      <td>Paleo</td>\n      <td>1.73</td>\n      <td>146/91</td>\n      <td>Loss of Balance, Headache, Dizziness, Confusion</td>\n      <td>Stroke</td>\n      <td>63</td>\n      <td>70</td>\n    </tr>\n    <tr>\n      <th>2</th>\n      <td>26</td>\n      <td>Male</td>\n      <td>1</td>\n      <td>1</td>\n      <td>Married</td>\n      <td>Never Worked</td>\n      <td>Rural</td>\n      <td>189.00</td>\n      <td>20.32</td>\n      <td>Formerly Smoked</td>\n      <td>...</td>\n      <td>High</td>\n      <td>0</td>\n      <td>Yes</td>\n      <td>Paleo</td>\n      <td>7.31</td>\n      <td>154/97</td>\n      <td>Seizures, Dizziness</td>\n      <td>Stroke</td>\n      <td>59</td>\n      <td>95</td>\n    </tr>\n    <tr>\n      <th>3</th>\n      <td>73</td>\n      <td>Male</td>\n      <td>0</td>\n      <td>0</td>\n      <td>Married</td>\n      <td>Never Worked</td>\n      <td>Urban</td>\n      <td>185.29</td>\n      <td>27.50</td>\n      <td>Non-smoker</td>\n      <td>...</td>\n      <td>Moderate</td>\n      <td>0</td>\n      <td>No</td>\n      <td>Paleo</td>\n      <td>5.35</td>\n      <td>174/81</td>\n      <td>Seizures, Blurred Vision, Severe Fatigue, Head...</td>\n      <td>No Stroke</td>\n      <td>70</td>\n      <td>137</td>\n    </tr>\n    <tr>\n      <th>4</th>\n      <td>51</td>\n      <td>Male</td>\n      <td>1</td>\n      <td>1</td>\n      <td>Divorced</td>\n      <td>Self-employed</td>\n      <td>Urban</td>\n      <td>177.34</td>\n      <td>29.06</td>\n      <td>Currently Smokes</td>\n      <td>...</td>\n      <td>Low</td>\n      <td>0</td>\n      <td>Yes</td>\n      <td>Pescatarian</td>\n      <td>6.84</td>\n      <td>121/95</td>\n      <td>Difficulty Speaking</td>\n      <td>Stroke</td>\n      <td>65</td>\n      <td>68</td>\n    </tr>\n  </tbody>\n</table>\n<p>5 rows × 21 columns</p>\n</div>"
     },
     "execution_count": 5,
     "metadata": {},
     "output_type": "execute_result"
    }
   ],
   "source": [
    "df[['HDL', 'LDL']] = df[\"Cholesterol Levels\"].str.split(\",\", expand=True)\n",
    "df=df.drop('Cholesterol Levels',axis=1)\n",
    "df.head()\n",
    "df['HDL'] = df['HDL'].str.split(':', expand=True)[1]\n",
    "df['LDL'] = df['LDL'].str.split(':', expand=True)[1]\n",
    "df['HDL'] = pd.to_numeric(df['HDL'])\n",
    "df['LDL'] = pd.to_numeric(df['LDL'])\n",
    "df.head()\n"
   ]
  },
  {
   "cell_type": "code",
   "execution_count": 6,
   "metadata": {
    "ExecuteTime": {
     "end_time": "2025-04-06T23:29:41.955124900Z",
     "start_time": "2025-04-06T23:29:41.399036300Z"
    }
   },
   "outputs": [],
   "source": [
    "df['Upper BP'] = df['Blood Pressure Levels'].str.split('/',expand=True)[0]\n",
    "df['Lower BP'] = df['Blood Pressure Levels'].str.split('/',expand=True)[1]\n",
    "df['Upper BP'] = pd.to_numeric(df['Upper BP'])\n",
    "df['Lower BP'] = pd.to_numeric(df['Lower BP'])\n",
    "df=df.drop('Blood Pressure Levels',axis=1)"
   ]
  },
  {
   "cell_type": "code",
   "execution_count": 7,
   "metadata": {
    "ExecuteTime": {
     "end_time": "2025-04-06T23:29:42.367227100Z",
     "start_time": "2025-04-06T23:29:41.773936800Z"
    }
   },
   "outputs": [
    {
     "name": "stdout",
     "output_type": "stream",
     "text": [
      "<class 'pandas.core.frame.DataFrame'>\n",
      "RangeIndex: 15000 entries, 0 to 14999\n",
      "Data columns (total 22 columns):\n",
      " #   Column                    Non-Null Count  Dtype  \n",
      "---  ------                    --------------  -----  \n",
      " 0   Age                       15000 non-null  int64  \n",
      " 1   Gender                    15000 non-null  object \n",
      " 2   Hypertension              15000 non-null  int64  \n",
      " 3   Heart Disease             15000 non-null  int64  \n",
      " 4   Marital Status            15000 non-null  object \n",
      " 5   Work Type                 15000 non-null  object \n",
      " 6   Residence Type            15000 non-null  object \n",
      " 7   Average Glucose Level     15000 non-null  float64\n",
      " 8   Body Mass Index (BMI)     15000 non-null  float64\n",
      " 9   Smoking Status            15000 non-null  object \n",
      " 10  Alcohol Intake            15000 non-null  object \n",
      " 11  Physical Activity         15000 non-null  object \n",
      " 12  Stroke History            15000 non-null  int64  \n",
      " 13  Family History of Stroke  15000 non-null  object \n",
      " 14  Dietary Habits            15000 non-null  object \n",
      " 15  Stress Levels             15000 non-null  float64\n",
      " 16  Symptoms                  12500 non-null  object \n",
      " 17  Diagnosis                 15000 non-null  object \n",
      " 18  HDL                       15000 non-null  int64  \n",
      " 19  LDL                       15000 non-null  int64  \n",
      " 20  Upper BP                  15000 non-null  int64  \n",
      " 21  Lower BP                  15000 non-null  int64  \n",
      "dtypes: float64(3), int64(8), object(11)\n",
      "memory usage: 2.5+ MB\n"
     ]
    }
   ],
   "source": [
    "df.info()\n",
    "le = LabelEncoder()\n",
    "df['Gender'] = le.fit_transform(df['Gender'])\n",
    "df['Diagnosis']= le.fit_transform(df['Diagnosis'])\n",
    "df['Marital Status']= le.fit_transform(df['Marital Status'])\n",
    "df['Residence Type']=le.fit_transform(df['Residence Type'])\n",
    "df['Family History of Stroke']=le.fit_transform(df['Family History of Stroke'])"
   ]
  },
  {
   "cell_type": "code",
   "execution_count": 8,
   "metadata": {
    "ExecuteTime": {
     "end_time": "2025-04-06T23:29:42.431234400Z",
     "start_time": "2025-04-06T23:29:41.997278700Z"
    }
   },
   "outputs": [],
   "source": [
    "onehot = OneHotEncoder()\n",
    "df['Smoking Status']=onehot.fit_transform(df[['Smoking Status']]).toarray()\n",
    "df['Alcohol Intake']=onehot.fit_transform(df[['Alcohol Intake']]).toarray()\n",
    "df['Physical Activity']=onehot.fit_transform(df[['Physical Activity']]).toarray()\n",
    "df['Dietary Habits']=onehot.fit_transform(df[['Dietary Habits']]).toarray()\n",
    "df['Work Type']=onehot.fit_transform(df[['Work Type']]).toarray()"
   ]
  },
  {
   "cell_type": "code",
   "execution_count": 9,
   "metadata": {
    "ExecuteTime": {
     "end_time": "2025-04-06T23:29:42.452165400Z",
     "start_time": "2025-04-06T23:29:42.141949200Z"
    }
   },
   "outputs": [
    {
     "data": {
      "text/plain": "   Age  Gender  Hypertension  Heart Disease  Marital Status  Work Type  \\\n0   56       1             0              1               1        0.0   \n1   80       1             0              0               2        0.0   \n2   26       1             1              1               1        0.0   \n3   73       1             0              0               1        0.0   \n4   51       1             1              1               0        0.0   \n\n   Residence Type  Average Glucose Level  Body Mass Index (BMI)  \\\n0               0                 130.91                  22.37   \n1               1                 183.73                  32.57   \n2               0                 189.00                  20.32   \n3               1                 185.29                  27.50   \n4               1                 177.34                  29.06   \n\n   Smoking Status  ...  Stroke History  Family History of Stroke  \\\n0             0.0  ...               0                         1   \n1             0.0  ...               0                         0   \n2             0.0  ...               0                         1   \n3             0.0  ...               0                         0   \n4             1.0  ...               0                         1   \n\n   Dietary Habits  Stress Levels  \\\n0             0.0           3.48   \n1             0.0           1.73   \n2             0.0           7.31   \n3             0.0           5.35   \n4             0.0           6.84   \n\n                                            Symptoms  Diagnosis HDL  LDL  \\\n0                      Difficulty Speaking, Headache          1  68  133   \n1    Loss of Balance, Headache, Dizziness, Confusion          1  63   70   \n2                                Seizures, Dizziness          1  59   95   \n3  Seizures, Blurred Vision, Severe Fatigue, Head...          0  70  137   \n4                                Difficulty Speaking          1  65   68   \n\n   Upper BP  Lower BP  \n0       140       108  \n1       146        91  \n2       154        97  \n3       174        81  \n4       121        95  \n\n[5 rows x 22 columns]",
      "text/html": "<div>\n<style scoped>\n    .dataframe tbody tr th:only-of-type {\n        vertical-align: middle;\n    }\n\n    .dataframe tbody tr th {\n        vertical-align: top;\n    }\n\n    .dataframe thead th {\n        text-align: right;\n    }\n</style>\n<table border=\"1\" class=\"dataframe\">\n  <thead>\n    <tr style=\"text-align: right;\">\n      <th></th>\n      <th>Age</th>\n      <th>Gender</th>\n      <th>Hypertension</th>\n      <th>Heart Disease</th>\n      <th>Marital Status</th>\n      <th>Work Type</th>\n      <th>Residence Type</th>\n      <th>Average Glucose Level</th>\n      <th>Body Mass Index (BMI)</th>\n      <th>Smoking Status</th>\n      <th>...</th>\n      <th>Stroke History</th>\n      <th>Family History of Stroke</th>\n      <th>Dietary Habits</th>\n      <th>Stress Levels</th>\n      <th>Symptoms</th>\n      <th>Diagnosis</th>\n      <th>HDL</th>\n      <th>LDL</th>\n      <th>Upper BP</th>\n      <th>Lower BP</th>\n    </tr>\n  </thead>\n  <tbody>\n    <tr>\n      <th>0</th>\n      <td>56</td>\n      <td>1</td>\n      <td>0</td>\n      <td>1</td>\n      <td>1</td>\n      <td>0.0</td>\n      <td>0</td>\n      <td>130.91</td>\n      <td>22.37</td>\n      <td>0.0</td>\n      <td>...</td>\n      <td>0</td>\n      <td>1</td>\n      <td>0.0</td>\n      <td>3.48</td>\n      <td>Difficulty Speaking, Headache</td>\n      <td>1</td>\n      <td>68</td>\n      <td>133</td>\n      <td>140</td>\n      <td>108</td>\n    </tr>\n    <tr>\n      <th>1</th>\n      <td>80</td>\n      <td>1</td>\n      <td>0</td>\n      <td>0</td>\n      <td>2</td>\n      <td>0.0</td>\n      <td>1</td>\n      <td>183.73</td>\n      <td>32.57</td>\n      <td>0.0</td>\n      <td>...</td>\n      <td>0</td>\n      <td>0</td>\n      <td>0.0</td>\n      <td>1.73</td>\n      <td>Loss of Balance, Headache, Dizziness, Confusion</td>\n      <td>1</td>\n      <td>63</td>\n      <td>70</td>\n      <td>146</td>\n      <td>91</td>\n    </tr>\n    <tr>\n      <th>2</th>\n      <td>26</td>\n      <td>1</td>\n      <td>1</td>\n      <td>1</td>\n      <td>1</td>\n      <td>0.0</td>\n      <td>0</td>\n      <td>189.00</td>\n      <td>20.32</td>\n      <td>0.0</td>\n      <td>...</td>\n      <td>0</td>\n      <td>1</td>\n      <td>0.0</td>\n      <td>7.31</td>\n      <td>Seizures, Dizziness</td>\n      <td>1</td>\n      <td>59</td>\n      <td>95</td>\n      <td>154</td>\n      <td>97</td>\n    </tr>\n    <tr>\n      <th>3</th>\n      <td>73</td>\n      <td>1</td>\n      <td>0</td>\n      <td>0</td>\n      <td>1</td>\n      <td>0.0</td>\n      <td>1</td>\n      <td>185.29</td>\n      <td>27.50</td>\n      <td>0.0</td>\n      <td>...</td>\n      <td>0</td>\n      <td>0</td>\n      <td>0.0</td>\n      <td>5.35</td>\n      <td>Seizures, Blurred Vision, Severe Fatigue, Head...</td>\n      <td>0</td>\n      <td>70</td>\n      <td>137</td>\n      <td>174</td>\n      <td>81</td>\n    </tr>\n    <tr>\n      <th>4</th>\n      <td>51</td>\n      <td>1</td>\n      <td>1</td>\n      <td>1</td>\n      <td>0</td>\n      <td>0.0</td>\n      <td>1</td>\n      <td>177.34</td>\n      <td>29.06</td>\n      <td>1.0</td>\n      <td>...</td>\n      <td>0</td>\n      <td>1</td>\n      <td>0.0</td>\n      <td>6.84</td>\n      <td>Difficulty Speaking</td>\n      <td>1</td>\n      <td>65</td>\n      <td>68</td>\n      <td>121</td>\n      <td>95</td>\n    </tr>\n  </tbody>\n</table>\n<p>5 rows × 22 columns</p>\n</div>"
     },
     "execution_count": 9,
     "metadata": {},
     "output_type": "execute_result"
    }
   ],
   "source": [
    "df.head()"
   ]
  },
  {
   "cell_type": "code",
   "execution_count": 10,
   "metadata": {
    "ExecuteTime": {
     "end_time": "2025-04-06T23:29:42.586410900Z",
     "start_time": "2025-04-06T23:29:42.224449300Z"
    }
   },
   "outputs": [],
   "source": [
    "df[df['Symptoms'].isnull()]\n",
    "df['Symptoms'] = df['Symptoms'].fillna('No Symptoms')\n",
    "\n"
   ]
  },
  {
   "cell_type": "code",
   "execution_count": 11,
   "metadata": {
    "ExecuteTime": {
     "end_time": "2025-04-06T23:29:42.596593300Z",
     "start_time": "2025-04-06T23:29:42.260838900Z"
    }
   },
   "outputs": [
    {
     "name": "stdout",
     "output_type": "stream",
     "text": [
      "{'Blurred Vision', 'Numbness', 'Weakness', 'No Symptoms', 'Severe Fatigue', 'Loss of Balance', 'Dizziness', 'Confusion', 'Seizures', 'Headache', 'Difficulty Speaking'}\n"
     ]
    }
   ],
   "source": [
    "# Extract unique symptoms\n",
    "unique_symptoms = set()\n",
    "df['Symptoms'].str.split(', ').apply(unique_symptoms.update)  # Add each symptom to the set\n",
    "\n",
    "# Display unique symptoms\n",
    "print(unique_symptoms)"
   ]
  },
  {
   "cell_type": "code",
   "execution_count": 12,
   "metadata": {
    "ExecuteTime": {
     "end_time": "2025-04-06T23:29:42.784844200Z",
     "start_time": "2025-04-06T23:29:42.376509600Z"
    }
   },
   "outputs": [],
   "source": [
    "unique_symptoms = pd.DataFrame()\n"
   ]
  },
  {
   "cell_type": "code",
   "execution_count": 13,
   "metadata": {
    "ExecuteTime": {
     "end_time": "2025-04-06T23:29:43.581444900Z",
     "start_time": "2025-04-06T23:29:42.403315100Z"
    }
   },
   "outputs": [
    {
     "name": "stdout",
     "output_type": "stream",
     "text": [
      "       Blurred Vision  Confusion  Difficulty Speaking  Dizziness  Headache  \\\n",
      "0                   0          0                    1          0         1   \n",
      "1                   0          1                    0          1         1   \n",
      "2                   0          0                    0          1         0   \n",
      "3                   1          1                    0          0         1   \n",
      "4                   0          0                    1          0         0   \n",
      "...               ...        ...                  ...        ...       ...   \n",
      "14995               0          0                    0          0         0   \n",
      "14996               0          0                    1          0         0   \n",
      "14997               0          0                    1          0         1   \n",
      "14998               0          1                    0          1         0   \n",
      "14999               0          0                    0          0         1   \n",
      "\n",
      "       Loss of Balance  No Symptoms  Numbness  Seizures  Severe Fatigue  \\\n",
      "0                    0            0         0         0               0   \n",
      "1                    1            0         0         0               0   \n",
      "2                    0            0         0         1               0   \n",
      "3                    0            0         0         1               1   \n",
      "4                    0            0         0         0               0   \n",
      "...                ...          ...       ...       ...             ...   \n",
      "14995                0            1         0         0               0   \n",
      "14996                0            0         0         0               0   \n",
      "14997                0            0         0         0               1   \n",
      "14998                1            0         1         0               1   \n",
      "14999                0            0         0         0               0   \n",
      "\n",
      "       Weakness  \n",
      "0             0  \n",
      "1             0  \n",
      "2             0  \n",
      "3             0  \n",
      "4             0  \n",
      "...         ...  \n",
      "14995         0  \n",
      "14996         0  \n",
      "14997         0  \n",
      "14998         0  \n",
      "14999         0  \n",
      "\n",
      "[15000 rows x 11 columns]\n"
     ]
    }
   ],
   "source": [
    "# Create a binary matrix (One-Hot Encoding)\n",
    "symptoms_matrix = df['Symptoms'].str.get_dummies(sep=', ')\n",
    "\n",
    "# Display the transformed dataset\n",
    "print(symptoms_matrix)\n"
   ]
  },
  {
   "cell_type": "code",
   "execution_count": 14,
   "metadata": {
    "ExecuteTime": {
     "end_time": "2025-04-06T23:29:43.595429200Z",
     "start_time": "2025-04-06T23:29:43.183626Z"
    }
   },
   "outputs": [
    {
     "data": {
      "text/plain": "   Age  Gender  Hypertension  Heart Disease  Marital Status  Work Type  \\\n0   56       1             0              1               1        0.0   \n1   80       1             0              0               2        0.0   \n2   26       1             1              1               1        0.0   \n3   73       1             0              0               1        0.0   \n4   51       1             1              1               0        0.0   \n\n   Residence Type  Average Glucose Level  Body Mass Index (BMI)  \\\n0               0                    0.0                    0.0   \n1               1                    0.0                    0.0   \n2               0                    1.0                    0.0   \n3               1                    1.0                    0.0   \n4               1                    0.0                    0.0   \n\n   Smoking Status  ...  Confusion  Difficulty Speaking  Dizziness  Headache  \\\n0           22.37  ...          0                    1          0         1   \n1           32.57  ...          1                    0          1         1   \n2           20.32  ...          0                    0          1         0   \n3           27.50  ...          1                    0          0         1   \n4           29.06  ...          0                    1          0         0   \n\n   Loss of Balance  No Symptoms  Numbness  Seizures  Severe Fatigue  Weakness  \n0                0            0         0         0               0         0  \n1                1            0         0         0               0         0  \n2                0            0         0         1               0         0  \n3                0            0         0         1               1         0  \n4                0            0         0         0               0         0  \n\n[5 rows x 32 columns]",
      "text/html": "<div>\n<style scoped>\n    .dataframe tbody tr th:only-of-type {\n        vertical-align: middle;\n    }\n\n    .dataframe tbody tr th {\n        vertical-align: top;\n    }\n\n    .dataframe thead th {\n        text-align: right;\n    }\n</style>\n<table border=\"1\" class=\"dataframe\">\n  <thead>\n    <tr style=\"text-align: right;\">\n      <th></th>\n      <th>Age</th>\n      <th>Gender</th>\n      <th>Hypertension</th>\n      <th>Heart Disease</th>\n      <th>Marital Status</th>\n      <th>Work Type</th>\n      <th>Residence Type</th>\n      <th>Average Glucose Level</th>\n      <th>Body Mass Index (BMI)</th>\n      <th>Smoking Status</th>\n      <th>...</th>\n      <th>Confusion</th>\n      <th>Difficulty Speaking</th>\n      <th>Dizziness</th>\n      <th>Headache</th>\n      <th>Loss of Balance</th>\n      <th>No Symptoms</th>\n      <th>Numbness</th>\n      <th>Seizures</th>\n      <th>Severe Fatigue</th>\n      <th>Weakness</th>\n    </tr>\n  </thead>\n  <tbody>\n    <tr>\n      <th>0</th>\n      <td>56</td>\n      <td>1</td>\n      <td>0</td>\n      <td>1</td>\n      <td>1</td>\n      <td>0.0</td>\n      <td>0</td>\n      <td>0.0</td>\n      <td>0.0</td>\n      <td>22.37</td>\n      <td>...</td>\n      <td>0</td>\n      <td>1</td>\n      <td>0</td>\n      <td>1</td>\n      <td>0</td>\n      <td>0</td>\n      <td>0</td>\n      <td>0</td>\n      <td>0</td>\n      <td>0</td>\n    </tr>\n    <tr>\n      <th>1</th>\n      <td>80</td>\n      <td>1</td>\n      <td>0</td>\n      <td>0</td>\n      <td>2</td>\n      <td>0.0</td>\n      <td>1</td>\n      <td>0.0</td>\n      <td>0.0</td>\n      <td>32.57</td>\n      <td>...</td>\n      <td>1</td>\n      <td>0</td>\n      <td>1</td>\n      <td>1</td>\n      <td>1</td>\n      <td>0</td>\n      <td>0</td>\n      <td>0</td>\n      <td>0</td>\n      <td>0</td>\n    </tr>\n    <tr>\n      <th>2</th>\n      <td>26</td>\n      <td>1</td>\n      <td>1</td>\n      <td>1</td>\n      <td>1</td>\n      <td>0.0</td>\n      <td>0</td>\n      <td>1.0</td>\n      <td>0.0</td>\n      <td>20.32</td>\n      <td>...</td>\n      <td>0</td>\n      <td>0</td>\n      <td>1</td>\n      <td>0</td>\n      <td>0</td>\n      <td>0</td>\n      <td>0</td>\n      <td>1</td>\n      <td>0</td>\n      <td>0</td>\n    </tr>\n    <tr>\n      <th>3</th>\n      <td>73</td>\n      <td>1</td>\n      <td>0</td>\n      <td>0</td>\n      <td>1</td>\n      <td>0.0</td>\n      <td>1</td>\n      <td>1.0</td>\n      <td>0.0</td>\n      <td>27.50</td>\n      <td>...</td>\n      <td>1</td>\n      <td>0</td>\n      <td>0</td>\n      <td>1</td>\n      <td>0</td>\n      <td>0</td>\n      <td>0</td>\n      <td>1</td>\n      <td>1</td>\n      <td>0</td>\n    </tr>\n    <tr>\n      <th>4</th>\n      <td>51</td>\n      <td>1</td>\n      <td>1</td>\n      <td>1</td>\n      <td>0</td>\n      <td>0.0</td>\n      <td>1</td>\n      <td>0.0</td>\n      <td>0.0</td>\n      <td>29.06</td>\n      <td>...</td>\n      <td>0</td>\n      <td>1</td>\n      <td>0</td>\n      <td>0</td>\n      <td>0</td>\n      <td>0</td>\n      <td>0</td>\n      <td>0</td>\n      <td>0</td>\n      <td>0</td>\n    </tr>\n  </tbody>\n</table>\n<p>5 rows × 32 columns</p>\n</div>"
     },
     "execution_count": 14,
     "metadata": {},
     "output_type": "execute_result"
    }
   ],
   "source": [
    "# Concatenate with original dataset\n",
    "df = pd.concat([df, symptoms_matrix], axis=1)\n",
    "df.drop(columns=['Symptoms'], inplace=True)\n",
    "\n",
    "df.head()"
   ]
  },
  {
   "cell_type": "code",
   "execution_count": 15,
   "metadata": {
    "ExecuteTime": {
     "end_time": "2025-04-06T23:29:43.599435100Z",
     "start_time": "2025-04-06T23:29:43.357935200Z"
    }
   },
   "outputs": [
    {
     "data": {
      "text/plain": "Diagnosis\n0    7532\n1    7468\nName: count, dtype: int64"
     },
     "execution_count": 15,
     "metadata": {},
     "output_type": "execute_result"
    }
   ],
   "source": [
    "X=df.drop(columns=['Diagnosis'])\n",
    "y=df['Diagnosis']\n",
    "y.value_counts()"
   ]
  },
  {
   "cell_type": "code",
   "execution_count": 16,
   "metadata": {
    "ExecuteTime": {
     "end_time": "2025-04-06T23:29:48.940079500Z",
     "start_time": "2025-04-06T23:29:43.418899200Z"
    }
   },
   "outputs": [],
   "source": [
    "# from sklearn.model_selection import train_test_split\n",
    "# from sklearn.preprocessing import StandardScaler\n",
    "# X_train, X_test, y_train, y_test = train_test_split(X, y, test_size=0.2, random_state=42)\n",
    "# scaler = StandardScaler()\n",
    "# X_train_scaled = scaler.fit_transform(X_train)\n",
    "# X_test_scaled = scaler.transform(X_test)\n",
    "\n",
    "from sklearn.preprocessing import StandardScaler\n",
    "import pandas as pd\n",
    "\n",
    "# Assuming X and y are already defined\n",
    "scaler = StandardScaler()\n",
    "X_scaled = scaler.fit_transform(X)\n",
    "\n",
    "# Convert scaled data and labels back to DataFrame\n",
    "X_scaled_df = pd.DataFrame(X_scaled, columns=X.columns)\n",
    "y_df = pd.DataFrame(y, columns=[\"Diagnosis\"])\n",
    "\n",
    "# Combine features and label\n",
    "final_df = pd.concat([X_scaled_df, y_df], axis=1)\n",
    "\n",
    "# Save to CSV\n",
    "final_df.to_csv(\"../../media/processed/full_data_stroke_detailed.csv\", index=False)\n"
   ]
  },
  {
   "cell_type": "code",
   "execution_count": 17,
   "metadata": {
    "ExecuteTime": {
     "end_time": "2025-04-06T23:29:49.031939400Z",
     "start_time": "2025-04-06T23:29:48.945275500Z"
    }
   },
   "outputs": [],
   "source": [
    "# column_names = X.columns\n",
    "# column_names\n",
    "#\n",
    "# # # Combine scaled features and labels for training data\n",
    "# X_train_df = pd.DataFrame(X_train_scaled, columns=column_names)\n",
    "# y_train_df = pd.DataFrame(y_train, columns=[\"Diagnosis\"])\n",
    "# train_combined = pd.concat([X_train_df, y_train_df], axis=1)\n",
    "#\n",
    "# # Combine scaled features and labels for test data\n",
    "# X_test_df = pd.DataFrame(X_test_scaled, columns=column_names)\n",
    "# y_test_df = pd.DataFrame(y_test, columns=[\"Diagnosis\"])\n",
    "# test_combined = pd.concat([X_test_df, y_test_df], axis=1)\n",
    "#\n",
    "# # # Save combined datasets to CSV\n",
    "# train_combined.to_csv(\"../../media/processed/train_data_stroke_detailed.csv\", index=False)\n",
    "# test_combined.to_csv(\"../../media/processed/test_data_stroke_detailed.csv\", index=False)\n",
    "#\n",
    "# # Assuming train_combined and test_combined are your datasets\n",
    "# # combined_df = pd.concat([train_combined, test_combined], ignore_index=True)\n",
    "#\n",
    "# # Save the full dataset into one CSV\n",
    "# # combined_df.to_csv(\"../../media/processed_datasets/full_data_stroke_detailed.csv\", index=False)"
   ]
  }
 ],
 "metadata": {
  "kernelspec": {
   "display_name": ".venv",
   "language": "python",
   "name": "python3"
  },
  "language_info": {
   "codemirror_mode": {
    "name": "ipython",
    "version": 3
   },
   "file_extension": ".py",
   "mimetype": "text/x-python",
   "name": "python",
   "nbconvert_exporter": "python",
   "pygments_lexer": "ipython3",
   "version": "3.13.1"
  }
 },
 "nbformat": 4,
 "nbformat_minor": 2
}
