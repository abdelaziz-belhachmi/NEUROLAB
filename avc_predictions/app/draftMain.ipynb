{
 "cells": [
  {
   "cell_type": "raw",
   "source": [
    "from RNN import simpleRNN"
   ],
   "metadata": {
    "collapsed": false
   }
  },
  {
   "cell_type": "code",
   "execution_count": 37,
   "outputs": [],
   "source": [
    "from RNN import MedicalRNN\n",
    "import pandas as pd\n",
    "import numpy as np"
   ],
   "metadata": {
    "collapsed": false,
    "ExecuteTime": {
     "end_time": "2025-02-09T23:50:20.982508700Z",
     "start_time": "2025-02-09T23:50:20.897767900Z"
    }
   }
  },
  {
   "cell_type": "code",
   "execution_count": 42,
   "outputs": [
    {
     "name": "stdout",
     "output_type": "stream",
     "text": [
      "Epoch 1/10, Loss: 0.7115\n",
      "Epoch 2/10, Loss: 0.7065\n",
      "Epoch 3/10, Loss: 0.7044\n",
      "Epoch 4/10, Loss: 0.7047\n",
      "Epoch 5/10, Loss: 0.7007\n",
      "Epoch 6/10, Loss: 0.7030\n",
      "Epoch 7/10, Loss: 0.7017\n",
      "Epoch 8/10, Loss: 0.7010\n",
      "Epoch 9/10, Loss: 0.7005\n",
      "Epoch 10/10, Loss: 0.7005\n",
      "\n",
      "Test Set Metrics:\n",
      "accuracy: 0.5001\n",
      "precision: 0.5091\n",
      "recall: 0.5077\n",
      "f1_score: 0.5084\n"
     ]
    }
   ],
   "source": [
    "\n",
    "\n",
    "train_data = pd.read_csv('../data/processed_data/train_data.csv')\n",
    "test_data = pd.read_csv('../data/processed_data/test_data.csv')\n",
    "\n",
    "# Prepare features and targets\n",
    "features = train_data.columns[:-1]  # Exclude target column\n",
    "X_train = train_data[features].values\n",
    "y_train = train_data['Diagnosis'].values.reshape(-1, 1)\n",
    "X_test = test_data[features].values\n",
    "y_test = test_data['Diagnosis'].values.reshape(-1, 1)\n",
    "\n",
    "# Initialize model\n",
    "input_size = X_train.shape[1]\n",
    "hidden_size = 50  # Adjustable hyperparameter\n",
    "output_size = 1  # Binary classification\n",
    "\n",
    "# Create and train model\n",
    "rnn = MedicalRNN(input_size, hidden_size, output_size)\n",
    "losses = rnn.train(X_train, y_train, epochs=10, batch_size=32, learning_rate=0.3)\n",
    "\n",
    "# Evaluate model\n",
    "metrics = rnn.evaluate(X_test, y_test)\n",
    "print(\"\\nTest Set Metrics:\")\n",
    "for metric, value in metrics.items():\n",
    "    print(f\"{metric}: {value:.4f}\")\n",
    "\n"
   ],
   "metadata": {
    "collapsed": false,
    "ExecuteTime": {
     "end_time": "2025-02-09T23:54:21.245947300Z",
     "start_time": "2025-02-09T23:53:24.174574100Z"
    }
   }
  },
  {
   "cell_type": "code",
   "execution_count": null,
   "outputs": [],
   "source": [],
   "metadata": {
    "collapsed": false
   }
  }
 ],
 "metadata": {
  "kernelspec": {
   "display_name": "Python 3",
   "language": "python",
   "name": "python3"
  },
  "language_info": {
   "codemirror_mode": {
    "name": "ipython",
    "version": 2
   },
   "file_extension": ".py",
   "mimetype": "text/x-python",
   "name": "python",
   "nbconvert_exporter": "python",
   "pygments_lexer": "ipython2",
   "version": "2.7.6"
  }
 },
 "nbformat": 4,
 "nbformat_minor": 0
}
