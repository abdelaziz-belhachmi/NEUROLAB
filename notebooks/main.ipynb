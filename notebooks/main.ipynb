{
 "cells": [
  {
   "cell_type": "raw",
   "source": [
    "from RNN import simpleRNN"
   ],
   "metadata": {
    "collapsed": false
   }
  },
  {
   "cell_type": "code",
   "execution_count": 26,
   "outputs": [],
   "source": [
    "from RNN import *\n",
    "import pandas as pd\n",
    "import numpy as np"
   ],
   "metadata": {
    "collapsed": false,
    "ExecuteTime": {
     "end_time": "2025-02-09T23:34:07.819062Z",
     "start_time": "2025-02-09T23:34:07.787799900Z"
    }
   }
  },
  {
   "cell_type": "code",
   "execution_count": 27,
   "outputs": [],
   "source": [
    "\n",
    "# Load dataset\n",
    "train_data = pd.read_csv('../data/processed_data/train_data.csv')\n",
    "test_data = pd.read_csv('../data/processed_data/test_data.csv')\n",
    "\n",
    "features = train_data.columns[:-1]  # Exclude target column\n",
    "\n",
    "# Convert to NumPy arrays\n",
    "X_train = train_data[features].values\n",
    "y_train = train_data['Diagnosis'].values.reshape(-1, 1)\n",
    "X_test = test_data[features].values\n",
    "y_test = test_data['Diagnosis'].values.reshape(-1, 1)\n",
    "\n",
    "# Define model\n",
    "input_size = X_train.shape[1]\n",
    "hidden_size = 10  # Adjustable hyperparameter\n",
    "output_size = 1  # Binary classification\n"
   ],
   "metadata": {
    "collapsed": false,
    "ExecuteTime": {
     "end_time": "2025-02-09T23:34:09.977237700Z",
     "start_time": "2025-02-09T23:34:08.424690300Z"
    }
   }
  },
  {
   "cell_type": "code",
   "execution_count": 28,
   "outputs": [
    {
     "ename": "ValueError",
     "evalue": "shapes (10,31) and (1,1) not aligned: 31 (dim 1) != 1 (dim 0)",
     "output_type": "error",
     "traceback": [
      "\u001B[1;31m---------------------------------------------------------------------------\u001B[0m",
      "\u001B[1;31mValueError\u001B[0m                                Traceback (most recent call last)",
      "Cell \u001B[1;32mIn[28], line 4\u001B[0m\n\u001B[0;32m      1\u001B[0m rnn \u001B[38;5;241m=\u001B[39m SimpleRNN(input_size, hidden_size, output_size)\n\u001B[0;32m      3\u001B[0m \u001B[38;5;66;03m# Train model\u001B[39;00m\n\u001B[1;32m----> 4\u001B[0m \u001B[43mrnn\u001B[49m\u001B[38;5;241;43m.\u001B[39;49m\u001B[43mtrain\u001B[49m\u001B[43m(\u001B[49m\u001B[43mX_train\u001B[49m\u001B[43m,\u001B[49m\u001B[43m \u001B[49m\u001B[43my_train\u001B[49m\u001B[43m,\u001B[49m\u001B[43m \u001B[49m\u001B[43mepochs\u001B[49m\u001B[38;5;241;43m=\u001B[39;49m\u001B[38;5;241;43m10\u001B[39;49m\u001B[43m)\u001B[49m\n",
      "File \u001B[1;32m~\\Desktop\\IASD S1\\RNN_Prediction_AVC\\notebooks\\RNN.py:68\u001B[0m, in \u001B[0;36mSimpleRNN.train\u001B[1;34m(self, X, y, epochs)\u001B[0m\n\u001B[0;32m     66\u001B[0m inputs \u001B[38;5;241m=\u001B[39m X[i]\n\u001B[0;32m     67\u001B[0m target \u001B[38;5;241m=\u001B[39m y[i]\n\u001B[1;32m---> 68\u001B[0m outputs, hidden_states \u001B[38;5;241m=\u001B[39m \u001B[38;5;28;43mself\u001B[39;49m\u001B[38;5;241;43m.\u001B[39;49m\u001B[43mforward\u001B[49m\u001B[43m(\u001B[49m\u001B[43minputs\u001B[49m\u001B[43m)\u001B[49m\n\u001B[0;32m     69\u001B[0m loss \u001B[38;5;241m+\u001B[39m\u001B[38;5;241m=\u001B[39m np\u001B[38;5;241m.\u001B[39mmean(\u001B[38;5;241m-\u001B[39m(target \u001B[38;5;241m*\u001B[39m np\u001B[38;5;241m.\u001B[39mlog(outputs[\u001B[38;5;241m-\u001B[39m\u001B[38;5;241m1\u001B[39m]) \u001B[38;5;241m+\u001B[39m (\u001B[38;5;241m1\u001B[39m \u001B[38;5;241m-\u001B[39m target) \u001B[38;5;241m*\u001B[39m np\u001B[38;5;241m.\u001B[39mlog(\u001B[38;5;241m1\u001B[39m \u001B[38;5;241m-\u001B[39m outputs[\u001B[38;5;241m-\u001B[39m\u001B[38;5;241m1\u001B[39m])))\n\u001B[0;32m     70\u001B[0m \u001B[38;5;28mself\u001B[39m\u001B[38;5;241m.\u001B[39mbackward(inputs, target, outputs, hidden_states)\n",
      "File \u001B[1;32m~\\Desktop\\IASD S1\\RNN_Prediction_AVC\\notebooks\\RNN.py:27\u001B[0m, in \u001B[0;36mSimpleRNN.forward\u001B[1;34m(self, inputs)\u001B[0m\n\u001B[0;32m     25\u001B[0m \u001B[38;5;28;01mfor\u001B[39;00m x_t \u001B[38;5;129;01min\u001B[39;00m inputs:\n\u001B[0;32m     26\u001B[0m     x_t \u001B[38;5;241m=\u001B[39m x_t\u001B[38;5;241m.\u001B[39mreshape(\u001B[38;5;241m-\u001B[39m\u001B[38;5;241m1\u001B[39m, \u001B[38;5;241m1\u001B[39m)  \u001B[38;5;66;03m# Ensure column vector\u001B[39;00m\n\u001B[1;32m---> 27\u001B[0m     h_t \u001B[38;5;241m=\u001B[39m np\u001B[38;5;241m.\u001B[39mtanh(\u001B[43mnp\u001B[49m\u001B[38;5;241;43m.\u001B[39;49m\u001B[43mdot\u001B[49m\u001B[43m(\u001B[49m\u001B[38;5;28;43mself\u001B[39;49m\u001B[38;5;241;43m.\u001B[39;49m\u001B[43mWxh\u001B[49m\u001B[43m,\u001B[49m\u001B[43m \u001B[49m\u001B[43mx_t\u001B[49m\u001B[43m)\u001B[49m \u001B[38;5;241m+\u001B[39m np\u001B[38;5;241m.\u001B[39mdot(\u001B[38;5;28mself\u001B[39m\u001B[38;5;241m.\u001B[39mWhh, h_t) \u001B[38;5;241m+\u001B[39m \u001B[38;5;28mself\u001B[39m\u001B[38;5;241m.\u001B[39mbh)\n\u001B[0;32m     28\u001B[0m     y_t \u001B[38;5;241m=\u001B[39m \u001B[38;5;241m1\u001B[39m \u001B[38;5;241m/\u001B[39m (\u001B[38;5;241m1\u001B[39m \u001B[38;5;241m+\u001B[39m np\u001B[38;5;241m.\u001B[39mexp(\u001B[38;5;241m-\u001B[39mnp\u001B[38;5;241m.\u001B[39mdot(\u001B[38;5;28mself\u001B[39m\u001B[38;5;241m.\u001B[39mWhy, h_t) \u001B[38;5;241m-\u001B[39m \u001B[38;5;28mself\u001B[39m\u001B[38;5;241m.\u001B[39mby))  \u001B[38;5;66;03m# Sigmoid activation\u001B[39;00m\n\u001B[0;32m     29\u001B[0m     outputs\u001B[38;5;241m.\u001B[39mappend(y_t)\n",
      "\u001B[1;31mValueError\u001B[0m: shapes (10,31) and (1,1) not aligned: 31 (dim 1) != 1 (dim 0)"
     ]
    }
   ],
   "source": [
    "rnn = SimpleRNN(input_size, hidden_size, output_size)\n",
    "\n",
    "# Train model\n",
    "rnn.train(X_train, y_train, epochs=10)\n",
    "\n"
   ],
   "metadata": {
    "collapsed": false,
    "ExecuteTime": {
     "end_time": "2025-02-09T23:34:10.105648800Z",
     "start_time": "2025-02-09T23:34:09.977237700Z"
    }
   }
  },
  {
   "cell_type": "code",
   "execution_count": null,
   "outputs": [],
   "source": [],
   "metadata": {
    "collapsed": false
   }
  }
 ],
 "metadata": {
  "kernelspec": {
   "display_name": "Python 3",
   "language": "python",
   "name": "python3"
  },
  "language_info": {
   "codemirror_mode": {
    "name": "ipython",
    "version": 2
   },
   "file_extension": ".py",
   "mimetype": "text/x-python",
   "name": "python",
   "nbconvert_exporter": "python",
   "pygments_lexer": "ipython2",
   "version": "2.7.6"
  }
 },
 "nbformat": 4,
 "nbformat_minor": 0
}
