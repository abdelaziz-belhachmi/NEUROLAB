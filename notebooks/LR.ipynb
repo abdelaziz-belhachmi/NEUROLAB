{
 "cells": [
  {
   "cell_type": "raw",
   "source": [],
   "metadata": {
    "collapsed": false
   }
  },
  {
   "cell_type": "code",
   "execution_count": 41,
   "outputs": [],
   "source": [
    "import pandas as pd\n",
    "from sklearn.linear_model import LogisticRegression\n",
    "from sklearn.metrics import accuracy_score, precision_score, recall_score, f1_score\n"
   ],
   "metadata": {
    "collapsed": false,
    "ExecuteTime": {
     "end_time": "2025-02-10T20:26:40.457677600Z",
     "start_time": "2025-02-10T20:26:40.344488200Z"
    }
   }
  },
  {
   "cell_type": "code",
   "execution_count": 42,
   "outputs": [
    {
     "name": "stdout",
     "output_type": "stream",
     "text": [
      "{'accuracy': 0.5021333333333333, 'precision': 0.5, 'recall': 0.4724156400642742, 'f1_score': 0.4858165794546957}\n"
     ]
    }
   ],
   "source": [
    "from sklearn.preprocessing import StandardScaler, LabelEncoder, OneHotEncoder\n",
    "from sklearn.model_selection import train_test_split\n",
    "\n",
    "# Your existing data loading code remains the same\n",
    "df = pd.read_csv('../data/raw_data/stroke_dataset.csv')\n",
    "\n",
    "df = df.drop(['Patient ID', 'Patient Name'], axis=1)\n",
    "\n",
    "df[['HDL', 'LDL']] = df[\"Cholesterol Levels\"].str.split(\",\", expand=True)\n",
    "df['HDL'] = df['HDL'].str.split(':', expand=True)[1]\n",
    "df['LDL'] = df['LDL'].str.split(':', expand=True)[1]\n",
    "df['HDL'] = pd.to_numeric(df['HDL'])\n",
    "df['LDL'] = pd.to_numeric(df['LDL'])\n",
    "df.head()\n",
    "\n",
    "df['Upper BP'] = df['Blood Pressure Levels'].str.split('/',expand=True)[0]\n",
    "df['Lower BP'] = df['Blood Pressure Levels'].str.split('/',expand=True)[1]\n",
    "df['Upper BP'] = pd.to_numeric(df['Upper BP'])\n",
    "df['Lower BP'] = pd.to_numeric(df['Lower BP'])\n",
    "\n",
    "\n",
    "df = df.drop(['Blood Pressure Levels', 'Cholesterol Levels','Symptoms'], axis=1)\n",
    "\n",
    "binary_cols = ['Gender', 'Marital Status', 'Family History of Stroke','Residence Type','Diagnosis']\n",
    "for col in binary_cols:\n",
    "    df[col] = LabelEncoder().fit_transform(df[col])\n",
    "\n",
    "onehot_cols = ['Smoking Status', 'Alcohol Intake', 'Physical Activity','Dietary Habits','Work Type']\n",
    "encoder = OneHotEncoder(drop='first', sparse_output=False)\n",
    "\n",
    "encoded_data = encoder.fit_transform(df[onehot_cols])\n",
    "encoded_df = pd.DataFrame(encoded_data, columns=encoder.get_feature_names_out(onehot_cols))\n",
    "\n",
    "df = df.drop(columns=onehot_cols)\n",
    "df = pd.concat([df, encoded_df], axis=1)\n",
    "\n",
    "print(df['Diagnosis'].value_counts())\n",
    "\n",
    "X = df.drop('Diagnosis', axis=1)\n",
    "y = df['Diagnosis']\n",
    "\n",
    "# Train-test split\n",
    "X_train, X_test, y_train, y_test = train_test_split(X, y,\n",
    "                                                        test_size=0.25,\n",
    "                                                        random_state=42,\n",
    "                                                        stratify=y)\n",
    "\n",
    "# Scale features\n",
    "scaler = StandardScaler()\n",
    "X_train_scaled = scaler.fit_transform(X_train)\n",
    "X_test_scaled = scaler.transform(X_test)\n",
    "\n",
    "# Train logistic regression\n",
    "lr_classifier = LogisticRegression(random_state=42)\n",
    "lr_classifier.fit(X_train_scaled, y_train)\n",
    "\n",
    "# Predict and evaluate\n",
    "y_pred = lr_classifier.predict(X_test_scaled)\n",
    "\n",
    "\n",
    "# Calculate metrics\n",
    "metrics = {\n",
    "    'accuracy': accuracy_score(y_test, y_pred),\n",
    "    'precision': precision_score(y_test, y_pred),\n",
    "    'recall': recall_score(y_test, y_pred),\n",
    "    'f1_score': f1_score(y_test, y_pred)\n",
    "}\n",
    "\n",
    "print(metrics)"
   ],
   "metadata": {
    "collapsed": false,
    "ExecuteTime": {
     "end_time": "2025-02-10T20:26:43.465191900Z",
     "start_time": "2025-02-10T20:26:40.379571500Z"
    }
   }
  }
 ],
 "metadata": {
  "kernelspec": {
   "display_name": "Python 3",
   "language": "python",
   "name": "python3"
  },
  "language_info": {
   "codemirror_mode": {
    "name": "ipython",
    "version": 2
   },
   "file_extension": ".py",
   "mimetype": "text/x-python",
   "name": "python",
   "nbconvert_exporter": "python",
   "pygments_lexer": "ipython2",
   "version": "2.7.6"
  }
 },
 "nbformat": 4,
 "nbformat_minor": 0
}
