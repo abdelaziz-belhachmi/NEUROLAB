{
 "cells": [
  {
   "cell_type": "markdown",
   "metadata": {},
   "source": [
    "Preprocessing Data "
   ]
  },
  {
   "cell_type": "code",
   "execution_count": 191,
   "metadata": {
    "ExecuteTime": {
     "end_time": "2025-02-09T23:32:06.857841900Z",
     "start_time": "2025-02-09T23:32:06.411753300Z"
    }
   },
   "outputs": [],
   "source": [
    "import pandas as pd\n",
    "import matplotlib.pyplot as plt \n",
    "import seaborn as sns \n",
    "from sklearn.preprocessing import LabelEncoder,OneHotEncoder\n",
    "from sklearn.preprocessing import StandardScaler\n",
    "from sklearn.model_selection import train_test_split \n"
   ]
  },
  {
   "cell_type": "code",
   "execution_count": 192,
   "metadata": {
    "ExecuteTime": {
     "end_time": "2025-02-09T23:32:07.050556300Z",
     "start_time": "2025-02-09T23:32:06.436112300Z"
    }
   },
   "outputs": [
    {
     "data": {
      "text/plain": "   Age Gender  Hypertension  Heart Disease Marital Status      Work Type  \\\n0   56   Male             0              1        Married  Self-employed   \n1   80   Male             0              0         Single  Self-employed   \n2   26   Male             1              1        Married   Never Worked   \n3   73   Male             0              0        Married   Never Worked   \n4   51   Male             1              1       Divorced  Self-employed   \n\n  Residence Type  Average Glucose Level  Body Mass Index (BMI)  \\\n0          Rural                 130.91                  22.37   \n1          Urban                 183.73                  32.57   \n2          Rural                 189.00                  20.32   \n3          Urban                 185.29                  27.50   \n4          Urban                 177.34                  29.06   \n\n     Smoking Status    Alcohol Intake Physical Activity  Stroke History  \\\n0        Non-smoker    Social Drinker          Moderate               0   \n1        Non-smoker             Never               Low               0   \n2   Formerly Smoked            Rarely              High               0   \n3        Non-smoker  Frequent Drinker          Moderate               0   \n4  Currently Smokes            Rarely               Low               0   \n\n  Family History of Stroke Dietary Habits  Stress Levels  \\\n0                      Yes          Vegan           3.48   \n1                       No          Paleo           1.73   \n2                      Yes          Paleo           7.31   \n3                       No          Paleo           5.35   \n4                      Yes    Pescatarian           6.84   \n\n  Blood Pressure Levels Cholesterol Levels  \\\n0               140/108  HDL: 68, LDL: 133   \n1                146/91   HDL: 63, LDL: 70   \n2                154/97   HDL: 59, LDL: 95   \n3                174/81  HDL: 70, LDL: 137   \n4                121/95   HDL: 65, LDL: 68   \n\n                                            Symptoms  Diagnosis  \n0                      Difficulty Speaking, Headache     Stroke  \n1    Loss of Balance, Headache, Dizziness, Confusion     Stroke  \n2                                Seizures, Dizziness     Stroke  \n3  Seizures, Blurred Vision, Severe Fatigue, Head...  No Stroke  \n4                                Difficulty Speaking     Stroke  ",
      "text/html": "<div>\n<style scoped>\n    .dataframe tbody tr th:only-of-type {\n        vertical-align: middle;\n    }\n\n    .dataframe tbody tr th {\n        vertical-align: top;\n    }\n\n    .dataframe thead th {\n        text-align: right;\n    }\n</style>\n<table border=\"1\" class=\"dataframe\">\n  <thead>\n    <tr style=\"text-align: right;\">\n      <th></th>\n      <th>Age</th>\n      <th>Gender</th>\n      <th>Hypertension</th>\n      <th>Heart Disease</th>\n      <th>Marital Status</th>\n      <th>Work Type</th>\n      <th>Residence Type</th>\n      <th>Average Glucose Level</th>\n      <th>Body Mass Index (BMI)</th>\n      <th>Smoking Status</th>\n      <th>Alcohol Intake</th>\n      <th>Physical Activity</th>\n      <th>Stroke History</th>\n      <th>Family History of Stroke</th>\n      <th>Dietary Habits</th>\n      <th>Stress Levels</th>\n      <th>Blood Pressure Levels</th>\n      <th>Cholesterol Levels</th>\n      <th>Symptoms</th>\n      <th>Diagnosis</th>\n    </tr>\n  </thead>\n  <tbody>\n    <tr>\n      <th>0</th>\n      <td>56</td>\n      <td>Male</td>\n      <td>0</td>\n      <td>1</td>\n      <td>Married</td>\n      <td>Self-employed</td>\n      <td>Rural</td>\n      <td>130.91</td>\n      <td>22.37</td>\n      <td>Non-smoker</td>\n      <td>Social Drinker</td>\n      <td>Moderate</td>\n      <td>0</td>\n      <td>Yes</td>\n      <td>Vegan</td>\n      <td>3.48</td>\n      <td>140/108</td>\n      <td>HDL: 68, LDL: 133</td>\n      <td>Difficulty Speaking, Headache</td>\n      <td>Stroke</td>\n    </tr>\n    <tr>\n      <th>1</th>\n      <td>80</td>\n      <td>Male</td>\n      <td>0</td>\n      <td>0</td>\n      <td>Single</td>\n      <td>Self-employed</td>\n      <td>Urban</td>\n      <td>183.73</td>\n      <td>32.57</td>\n      <td>Non-smoker</td>\n      <td>Never</td>\n      <td>Low</td>\n      <td>0</td>\n      <td>No</td>\n      <td>Paleo</td>\n      <td>1.73</td>\n      <td>146/91</td>\n      <td>HDL: 63, LDL: 70</td>\n      <td>Loss of Balance, Headache, Dizziness, Confusion</td>\n      <td>Stroke</td>\n    </tr>\n    <tr>\n      <th>2</th>\n      <td>26</td>\n      <td>Male</td>\n      <td>1</td>\n      <td>1</td>\n      <td>Married</td>\n      <td>Never Worked</td>\n      <td>Rural</td>\n      <td>189.00</td>\n      <td>20.32</td>\n      <td>Formerly Smoked</td>\n      <td>Rarely</td>\n      <td>High</td>\n      <td>0</td>\n      <td>Yes</td>\n      <td>Paleo</td>\n      <td>7.31</td>\n      <td>154/97</td>\n      <td>HDL: 59, LDL: 95</td>\n      <td>Seizures, Dizziness</td>\n      <td>Stroke</td>\n    </tr>\n    <tr>\n      <th>3</th>\n      <td>73</td>\n      <td>Male</td>\n      <td>0</td>\n      <td>0</td>\n      <td>Married</td>\n      <td>Never Worked</td>\n      <td>Urban</td>\n      <td>185.29</td>\n      <td>27.50</td>\n      <td>Non-smoker</td>\n      <td>Frequent Drinker</td>\n      <td>Moderate</td>\n      <td>0</td>\n      <td>No</td>\n      <td>Paleo</td>\n      <td>5.35</td>\n      <td>174/81</td>\n      <td>HDL: 70, LDL: 137</td>\n      <td>Seizures, Blurred Vision, Severe Fatigue, Head...</td>\n      <td>No Stroke</td>\n    </tr>\n    <tr>\n      <th>4</th>\n      <td>51</td>\n      <td>Male</td>\n      <td>1</td>\n      <td>1</td>\n      <td>Divorced</td>\n      <td>Self-employed</td>\n      <td>Urban</td>\n      <td>177.34</td>\n      <td>29.06</td>\n      <td>Currently Smokes</td>\n      <td>Rarely</td>\n      <td>Low</td>\n      <td>0</td>\n      <td>Yes</td>\n      <td>Pescatarian</td>\n      <td>6.84</td>\n      <td>121/95</td>\n      <td>HDL: 65, LDL: 68</td>\n      <td>Difficulty Speaking</td>\n      <td>Stroke</td>\n    </tr>\n  </tbody>\n</table>\n</div>"
     },
     "execution_count": 192,
     "metadata": {},
     "output_type": "execute_result"
    }
   ],
   "source": [
    "file_path = \"../data/raw_data/stroke_dataset.csv\"\n",
    "df = pd.read_csv(file_path)\n",
    "df = df.drop(['Patient ID', 'Patient Name'], axis=1)\n",
    "\n",
    "df.head()"
   ]
  },
  {
   "cell_type": "code",
   "execution_count": 193,
   "metadata": {
    "ExecuteTime": {
     "end_time": "2025-02-09T23:32:07.152318300Z",
     "start_time": "2025-02-09T23:32:06.907227Z"
    }
   },
   "outputs": [
    {
     "data": {
      "text/plain": "Age                            0\nGender                         0\nHypertension                   0\nHeart Disease                  0\nMarital Status                 0\nWork Type                      0\nResidence Type                 0\nAverage Glucose Level          0\nBody Mass Index (BMI)          0\nSmoking Status                 0\nAlcohol Intake                 0\nPhysical Activity              0\nStroke History                 0\nFamily History of Stroke       0\nDietary Habits                 0\nStress Levels                  0\nBlood Pressure Levels          0\nCholesterol Levels             0\nSymptoms                    2500\nDiagnosis                      0\ndtype: int64"
     },
     "execution_count": 193,
     "metadata": {},
     "output_type": "execute_result"
    }
   ],
   "source": [
    "df.isnull().sum()"
   ]
  },
  {
   "cell_type": "code",
   "execution_count": 194,
   "metadata": {
    "ExecuteTime": {
     "end_time": "2025-02-09T23:32:07.152318300Z",
     "start_time": "2025-02-09T23:32:06.995526900Z"
    }
   },
   "outputs": [],
   "source": [
    "df['Symptoms'] = df['Symptoms'].fillna('No Symptoms')"
   ]
  },
  {
   "cell_type": "code",
   "execution_count": 195,
   "metadata": {
    "ExecuteTime": {
     "end_time": "2025-02-09T23:32:07.327452700Z",
     "start_time": "2025-02-09T23:32:07.050556300Z"
    }
   },
   "outputs": [
    {
     "data": {
      "text/plain": "Age                         0\nGender                      0\nHypertension                0\nHeart Disease               0\nMarital Status              0\nWork Type                   0\nResidence Type              0\nAverage Glucose Level       0\nBody Mass Index (BMI)       0\nSmoking Status              0\nAlcohol Intake              0\nPhysical Activity           0\nStroke History              0\nFamily History of Stroke    0\nDietary Habits              0\nStress Levels               0\nBlood Pressure Levels       0\nCholesterol Levels          0\nSymptoms                    0\nDiagnosis                   0\ndtype: int64"
     },
     "execution_count": 195,
     "metadata": {},
     "output_type": "execute_result"
    }
   ],
   "source": [
    "df.isnull().sum()"
   ]
  },
  {
   "cell_type": "code",
   "execution_count": 196,
   "metadata": {
    "ExecuteTime": {
     "end_time": "2025-02-09T23:32:07.454862500Z",
     "start_time": "2025-02-09T23:32:07.121053100Z"
    }
   },
   "outputs": [
    {
     "name": "stdout",
     "output_type": "stream",
     "text": [
      "Categorical Data list : Index(['Gender', 'Marital Status', 'Work Type', 'Residence Type',\n",
      "       'Smoking Status', 'Alcohol Intake', 'Physical Activity',\n",
      "       'Family History of Stroke', 'Dietary Habits', 'Blood Pressure Levels',\n",
      "       'Cholesterol Levels', 'Symptoms', 'Diagnosis'],\n",
      "      dtype='object')\n",
      "Numerical Data list : Index(['Age', 'Hypertension', 'Heart Disease', 'Average Glucose Level',\n",
      "       'Body Mass Index (BMI)', 'Stroke History', 'Stress Levels'],\n",
      "      dtype='object')\n"
     ]
    }
   ],
   "source": [
    "categorical_data = df.select_dtypes(include=['object'])\n",
    "numerical_data = df.select_dtypes(exclude=['object'])\n",
    "\n",
    "print(f'Categorical Data list : {categorical_data.columns}')\n",
    "print(f'Numerical Data list : {numerical_data.columns}')"
   ]
  },
  {
   "cell_type": "code",
   "execution_count": 197,
   "metadata": {
    "ExecuteTime": {
     "end_time": "2025-02-09T23:32:07.887620300Z",
     "start_time": "2025-02-09T23:32:07.186859300Z"
    }
   },
   "outputs": [
    {
     "data": {
      "text/plain": "   Age Gender  Hypertension  Heart Disease Marital Status      Work Type  \\\n0   56   Male             0              1        Married  Self-employed   \n1   80   Male             0              0         Single  Self-employed   \n2   26   Male             1              1        Married   Never Worked   \n3   73   Male             0              0        Married   Never Worked   \n4   51   Male             1              1       Divorced  Self-employed   \n\n  Residence Type  Average Glucose Level  Body Mass Index (BMI)  \\\n0          Rural                 130.91                  22.37   \n1          Urban                 183.73                  32.57   \n2          Rural                 189.00                  20.32   \n3          Urban                 185.29                  27.50   \n4          Urban                 177.34                  29.06   \n\n     Smoking Status  ... Stroke History Family History of Stroke  \\\n0        Non-smoker  ...              0                      Yes   \n1        Non-smoker  ...              0                       No   \n2   Formerly Smoked  ...              0                      Yes   \n3        Non-smoker  ...              0                       No   \n4  Currently Smokes  ...              0                      Yes   \n\n   Dietary Habits Stress Levels Blood Pressure Levels  Cholesterol Levels  \\\n0           Vegan          3.48               140/108   HDL: 68, LDL: 133   \n1           Paleo          1.73                146/91    HDL: 63, LDL: 70   \n2           Paleo          7.31                154/97    HDL: 59, LDL: 95   \n3           Paleo          5.35                174/81   HDL: 70, LDL: 137   \n4     Pescatarian          6.84                121/95    HDL: 65, LDL: 68   \n\n                                            Symptoms  Diagnosis HDL  LDL  \n0                      Difficulty Speaking, Headache     Stroke  68  133  \n1    Loss of Balance, Headache, Dizziness, Confusion     Stroke  63   70  \n2                                Seizures, Dizziness     Stroke  59   95  \n3  Seizures, Blurred Vision, Severe Fatigue, Head...  No Stroke  70  137  \n4                                Difficulty Speaking     Stroke  65   68  \n\n[5 rows x 22 columns]",
      "text/html": "<div>\n<style scoped>\n    .dataframe tbody tr th:only-of-type {\n        vertical-align: middle;\n    }\n\n    .dataframe tbody tr th {\n        vertical-align: top;\n    }\n\n    .dataframe thead th {\n        text-align: right;\n    }\n</style>\n<table border=\"1\" class=\"dataframe\">\n  <thead>\n    <tr style=\"text-align: right;\">\n      <th></th>\n      <th>Age</th>\n      <th>Gender</th>\n      <th>Hypertension</th>\n      <th>Heart Disease</th>\n      <th>Marital Status</th>\n      <th>Work Type</th>\n      <th>Residence Type</th>\n      <th>Average Glucose Level</th>\n      <th>Body Mass Index (BMI)</th>\n      <th>Smoking Status</th>\n      <th>...</th>\n      <th>Stroke History</th>\n      <th>Family History of Stroke</th>\n      <th>Dietary Habits</th>\n      <th>Stress Levels</th>\n      <th>Blood Pressure Levels</th>\n      <th>Cholesterol Levels</th>\n      <th>Symptoms</th>\n      <th>Diagnosis</th>\n      <th>HDL</th>\n      <th>LDL</th>\n    </tr>\n  </thead>\n  <tbody>\n    <tr>\n      <th>0</th>\n      <td>56</td>\n      <td>Male</td>\n      <td>0</td>\n      <td>1</td>\n      <td>Married</td>\n      <td>Self-employed</td>\n      <td>Rural</td>\n      <td>130.91</td>\n      <td>22.37</td>\n      <td>Non-smoker</td>\n      <td>...</td>\n      <td>0</td>\n      <td>Yes</td>\n      <td>Vegan</td>\n      <td>3.48</td>\n      <td>140/108</td>\n      <td>HDL: 68, LDL: 133</td>\n      <td>Difficulty Speaking, Headache</td>\n      <td>Stroke</td>\n      <td>68</td>\n      <td>133</td>\n    </tr>\n    <tr>\n      <th>1</th>\n      <td>80</td>\n      <td>Male</td>\n      <td>0</td>\n      <td>0</td>\n      <td>Single</td>\n      <td>Self-employed</td>\n      <td>Urban</td>\n      <td>183.73</td>\n      <td>32.57</td>\n      <td>Non-smoker</td>\n      <td>...</td>\n      <td>0</td>\n      <td>No</td>\n      <td>Paleo</td>\n      <td>1.73</td>\n      <td>146/91</td>\n      <td>HDL: 63, LDL: 70</td>\n      <td>Loss of Balance, Headache, Dizziness, Confusion</td>\n      <td>Stroke</td>\n      <td>63</td>\n      <td>70</td>\n    </tr>\n    <tr>\n      <th>2</th>\n      <td>26</td>\n      <td>Male</td>\n      <td>1</td>\n      <td>1</td>\n      <td>Married</td>\n      <td>Never Worked</td>\n      <td>Rural</td>\n      <td>189.00</td>\n      <td>20.32</td>\n      <td>Formerly Smoked</td>\n      <td>...</td>\n      <td>0</td>\n      <td>Yes</td>\n      <td>Paleo</td>\n      <td>7.31</td>\n      <td>154/97</td>\n      <td>HDL: 59, LDL: 95</td>\n      <td>Seizures, Dizziness</td>\n      <td>Stroke</td>\n      <td>59</td>\n      <td>95</td>\n    </tr>\n    <tr>\n      <th>3</th>\n      <td>73</td>\n      <td>Male</td>\n      <td>0</td>\n      <td>0</td>\n      <td>Married</td>\n      <td>Never Worked</td>\n      <td>Urban</td>\n      <td>185.29</td>\n      <td>27.50</td>\n      <td>Non-smoker</td>\n      <td>...</td>\n      <td>0</td>\n      <td>No</td>\n      <td>Paleo</td>\n      <td>5.35</td>\n      <td>174/81</td>\n      <td>HDL: 70, LDL: 137</td>\n      <td>Seizures, Blurred Vision, Severe Fatigue, Head...</td>\n      <td>No Stroke</td>\n      <td>70</td>\n      <td>137</td>\n    </tr>\n    <tr>\n      <th>4</th>\n      <td>51</td>\n      <td>Male</td>\n      <td>1</td>\n      <td>1</td>\n      <td>Divorced</td>\n      <td>Self-employed</td>\n      <td>Urban</td>\n      <td>177.34</td>\n      <td>29.06</td>\n      <td>Currently Smokes</td>\n      <td>...</td>\n      <td>0</td>\n      <td>Yes</td>\n      <td>Pescatarian</td>\n      <td>6.84</td>\n      <td>121/95</td>\n      <td>HDL: 65, LDL: 68</td>\n      <td>Difficulty Speaking</td>\n      <td>Stroke</td>\n      <td>65</td>\n      <td>68</td>\n    </tr>\n  </tbody>\n</table>\n<p>5 rows × 22 columns</p>\n</div>"
     },
     "execution_count": 197,
     "metadata": {},
     "output_type": "execute_result"
    }
   ],
   "source": [
    "df[['HDL', 'LDL']] = df[\"Cholesterol Levels\"].str.split(\",\", expand=True)\n",
    "df['HDL'] = df['HDL'].str.split(':', expand=True)[1]\n",
    "df['LDL'] = df['LDL'].str.split(':', expand=True)[1]\n",
    "df['HDL'] = pd.to_numeric(df['HDL'])\n",
    "df['LDL'] = pd.to_numeric(df['LDL'])\n",
    "df.head()"
   ]
  },
  {
   "cell_type": "code",
   "execution_count": 198,
   "metadata": {
    "ExecuteTime": {
     "end_time": "2025-02-09T23:32:08.396209100Z",
     "start_time": "2025-02-09T23:32:07.771217900Z"
    }
   },
   "outputs": [],
   "source": [
    "df['Upper BP'] = df['Blood Pressure Levels'].str.split('/',expand=True)[0]\n",
    "df['Lower BP'] = df['Blood Pressure Levels'].str.split('/',expand=True)[1]\n",
    "df['Upper BP'] = pd.to_numeric(df['Upper BP'])\n",
    "df['Lower BP'] = pd.to_numeric(df['Lower BP'])"
   ]
  },
  {
   "cell_type": "code",
   "execution_count": 199,
   "metadata": {
    "ExecuteTime": {
     "end_time": "2025-02-09T23:32:08.599288500Z",
     "start_time": "2025-02-09T23:32:08.263082800Z"
    }
   },
   "outputs": [
    {
     "data": {
      "text/plain": "   Age Gender  Hypertension  Heart Disease Marital Status      Work Type  \\\n0   56   Male             0              1        Married  Self-employed   \n1   80   Male             0              0         Single  Self-employed   \n2   26   Male             1              1        Married   Never Worked   \n3   73   Male             0              0        Married   Never Worked   \n4   51   Male             1              1       Divorced  Self-employed   \n\n  Residence Type  Average Glucose Level  Body Mass Index (BMI)  \\\n0          Rural                 130.91                  22.37   \n1          Urban                 183.73                  32.57   \n2          Rural                 189.00                  20.32   \n3          Urban                 185.29                  27.50   \n4          Urban                 177.34                  29.06   \n\n     Smoking Status  ... Physical Activity Stroke History  \\\n0        Non-smoker  ...          Moderate              0   \n1        Non-smoker  ...               Low              0   \n2   Formerly Smoked  ...              High              0   \n3        Non-smoker  ...          Moderate              0   \n4  Currently Smokes  ...               Low              0   \n\n   Family History of Stroke Dietary Habits Stress Levels  Diagnosis HDL  LDL  \\\n0                       Yes          Vegan          3.48     Stroke  68  133   \n1                        No          Paleo          1.73     Stroke  63   70   \n2                       Yes          Paleo          7.31     Stroke  59   95   \n3                        No          Paleo          5.35  No Stroke  70  137   \n4                       Yes    Pescatarian          6.84     Stroke  65   68   \n\n   Upper BP  Lower BP  \n0       140       108  \n1       146        91  \n2       154        97  \n3       174        81  \n4       121        95  \n\n[5 rows x 21 columns]",
      "text/html": "<div>\n<style scoped>\n    .dataframe tbody tr th:only-of-type {\n        vertical-align: middle;\n    }\n\n    .dataframe tbody tr th {\n        vertical-align: top;\n    }\n\n    .dataframe thead th {\n        text-align: right;\n    }\n</style>\n<table border=\"1\" class=\"dataframe\">\n  <thead>\n    <tr style=\"text-align: right;\">\n      <th></th>\n      <th>Age</th>\n      <th>Gender</th>\n      <th>Hypertension</th>\n      <th>Heart Disease</th>\n      <th>Marital Status</th>\n      <th>Work Type</th>\n      <th>Residence Type</th>\n      <th>Average Glucose Level</th>\n      <th>Body Mass Index (BMI)</th>\n      <th>Smoking Status</th>\n      <th>...</th>\n      <th>Physical Activity</th>\n      <th>Stroke History</th>\n      <th>Family History of Stroke</th>\n      <th>Dietary Habits</th>\n      <th>Stress Levels</th>\n      <th>Diagnosis</th>\n      <th>HDL</th>\n      <th>LDL</th>\n      <th>Upper BP</th>\n      <th>Lower BP</th>\n    </tr>\n  </thead>\n  <tbody>\n    <tr>\n      <th>0</th>\n      <td>56</td>\n      <td>Male</td>\n      <td>0</td>\n      <td>1</td>\n      <td>Married</td>\n      <td>Self-employed</td>\n      <td>Rural</td>\n      <td>130.91</td>\n      <td>22.37</td>\n      <td>Non-smoker</td>\n      <td>...</td>\n      <td>Moderate</td>\n      <td>0</td>\n      <td>Yes</td>\n      <td>Vegan</td>\n      <td>3.48</td>\n      <td>Stroke</td>\n      <td>68</td>\n      <td>133</td>\n      <td>140</td>\n      <td>108</td>\n    </tr>\n    <tr>\n      <th>1</th>\n      <td>80</td>\n      <td>Male</td>\n      <td>0</td>\n      <td>0</td>\n      <td>Single</td>\n      <td>Self-employed</td>\n      <td>Urban</td>\n      <td>183.73</td>\n      <td>32.57</td>\n      <td>Non-smoker</td>\n      <td>...</td>\n      <td>Low</td>\n      <td>0</td>\n      <td>No</td>\n      <td>Paleo</td>\n      <td>1.73</td>\n      <td>Stroke</td>\n      <td>63</td>\n      <td>70</td>\n      <td>146</td>\n      <td>91</td>\n    </tr>\n    <tr>\n      <th>2</th>\n      <td>26</td>\n      <td>Male</td>\n      <td>1</td>\n      <td>1</td>\n      <td>Married</td>\n      <td>Never Worked</td>\n      <td>Rural</td>\n      <td>189.00</td>\n      <td>20.32</td>\n      <td>Formerly Smoked</td>\n      <td>...</td>\n      <td>High</td>\n      <td>0</td>\n      <td>Yes</td>\n      <td>Paleo</td>\n      <td>7.31</td>\n      <td>Stroke</td>\n      <td>59</td>\n      <td>95</td>\n      <td>154</td>\n      <td>97</td>\n    </tr>\n    <tr>\n      <th>3</th>\n      <td>73</td>\n      <td>Male</td>\n      <td>0</td>\n      <td>0</td>\n      <td>Married</td>\n      <td>Never Worked</td>\n      <td>Urban</td>\n      <td>185.29</td>\n      <td>27.50</td>\n      <td>Non-smoker</td>\n      <td>...</td>\n      <td>Moderate</td>\n      <td>0</td>\n      <td>No</td>\n      <td>Paleo</td>\n      <td>5.35</td>\n      <td>No Stroke</td>\n      <td>70</td>\n      <td>137</td>\n      <td>174</td>\n      <td>81</td>\n    </tr>\n    <tr>\n      <th>4</th>\n      <td>51</td>\n      <td>Male</td>\n      <td>1</td>\n      <td>1</td>\n      <td>Divorced</td>\n      <td>Self-employed</td>\n      <td>Urban</td>\n      <td>177.34</td>\n      <td>29.06</td>\n      <td>Currently Smokes</td>\n      <td>...</td>\n      <td>Low</td>\n      <td>0</td>\n      <td>Yes</td>\n      <td>Pescatarian</td>\n      <td>6.84</td>\n      <td>Stroke</td>\n      <td>65</td>\n      <td>68</td>\n      <td>121</td>\n      <td>95</td>\n    </tr>\n  </tbody>\n</table>\n<p>5 rows × 21 columns</p>\n</div>"
     },
     "execution_count": 199,
     "metadata": {},
     "output_type": "execute_result"
    }
   ],
   "source": [
    "df = df.drop(['Blood Pressure Levels', 'Cholesterol Levels','Symptoms'], axis=1)\n",
    "\n",
    "df.head()"
   ]
  },
  {
   "cell_type": "code",
   "execution_count": 200,
   "metadata": {
    "ExecuteTime": {
     "end_time": "2025-02-09T23:32:09.049765900Z",
     "start_time": "2025-02-09T23:32:08.349350500Z"
    }
   },
   "outputs": [
    {
     "data": {
      "text/plain": "   Age  Gender  Hypertension  Heart Disease  Marital Status  Residence Type  \\\n0   56       1             0              1               1               0   \n1   80       1             0              0               2               1   \n2   26       1             1              1               1               0   \n3   73       1             0              0               1               1   \n4   51       1             1              1               0               1   \n\n   Average Glucose Level  Body Mass Index (BMI)  Stroke History  \\\n0                 130.91                  22.37               0   \n1                 183.73                  32.57               0   \n2                 189.00                  20.32               0   \n3                 185.29                  27.50               0   \n4                 177.34                  29.06               0   \n\n   Family History of Stroke  ...  Physical Activity_Moderate  \\\n0                         1  ...                         1.0   \n1                         0  ...                         0.0   \n2                         1  ...                         0.0   \n3                         0  ...                         1.0   \n4                         1  ...                         0.0   \n\n   Dietary Habits_Keto  Dietary Habits_Non-Vegetarian  Dietary Habits_Paleo  \\\n0                  0.0                            0.0                   0.0   \n1                  0.0                            0.0                   1.0   \n2                  0.0                            0.0                   1.0   \n3                  0.0                            0.0                   1.0   \n4                  0.0                            0.0                   0.0   \n\n   Dietary Habits_Pescatarian  Dietary Habits_Vegan  \\\n0                         0.0                   1.0   \n1                         0.0                   0.0   \n2                         0.0                   0.0   \n3                         0.0                   0.0   \n4                         1.0                   0.0   \n\n   Dietary Habits_Vegetarian  Work Type_Never Worked  Work Type_Private  \\\n0                        0.0                     0.0                0.0   \n1                        0.0                     0.0                0.0   \n2                        0.0                     1.0                0.0   \n3                        0.0                     1.0                0.0   \n4                        0.0                     0.0                0.0   \n\n   Work Type_Self-employed  \n0                      1.0  \n1                      1.0  \n2                      0.0  \n3                      0.0  \n4                      1.0  \n\n[5 rows x 32 columns]",
      "text/html": "<div>\n<style scoped>\n    .dataframe tbody tr th:only-of-type {\n        vertical-align: middle;\n    }\n\n    .dataframe tbody tr th {\n        vertical-align: top;\n    }\n\n    .dataframe thead th {\n        text-align: right;\n    }\n</style>\n<table border=\"1\" class=\"dataframe\">\n  <thead>\n    <tr style=\"text-align: right;\">\n      <th></th>\n      <th>Age</th>\n      <th>Gender</th>\n      <th>Hypertension</th>\n      <th>Heart Disease</th>\n      <th>Marital Status</th>\n      <th>Residence Type</th>\n      <th>Average Glucose Level</th>\n      <th>Body Mass Index (BMI)</th>\n      <th>Stroke History</th>\n      <th>Family History of Stroke</th>\n      <th>...</th>\n      <th>Physical Activity_Moderate</th>\n      <th>Dietary Habits_Keto</th>\n      <th>Dietary Habits_Non-Vegetarian</th>\n      <th>Dietary Habits_Paleo</th>\n      <th>Dietary Habits_Pescatarian</th>\n      <th>Dietary Habits_Vegan</th>\n      <th>Dietary Habits_Vegetarian</th>\n      <th>Work Type_Never Worked</th>\n      <th>Work Type_Private</th>\n      <th>Work Type_Self-employed</th>\n    </tr>\n  </thead>\n  <tbody>\n    <tr>\n      <th>0</th>\n      <td>56</td>\n      <td>1</td>\n      <td>0</td>\n      <td>1</td>\n      <td>1</td>\n      <td>0</td>\n      <td>130.91</td>\n      <td>22.37</td>\n      <td>0</td>\n      <td>1</td>\n      <td>...</td>\n      <td>1.0</td>\n      <td>0.0</td>\n      <td>0.0</td>\n      <td>0.0</td>\n      <td>0.0</td>\n      <td>1.0</td>\n      <td>0.0</td>\n      <td>0.0</td>\n      <td>0.0</td>\n      <td>1.0</td>\n    </tr>\n    <tr>\n      <th>1</th>\n      <td>80</td>\n      <td>1</td>\n      <td>0</td>\n      <td>0</td>\n      <td>2</td>\n      <td>1</td>\n      <td>183.73</td>\n      <td>32.57</td>\n      <td>0</td>\n      <td>0</td>\n      <td>...</td>\n      <td>0.0</td>\n      <td>0.0</td>\n      <td>0.0</td>\n      <td>1.0</td>\n      <td>0.0</td>\n      <td>0.0</td>\n      <td>0.0</td>\n      <td>0.0</td>\n      <td>0.0</td>\n      <td>1.0</td>\n    </tr>\n    <tr>\n      <th>2</th>\n      <td>26</td>\n      <td>1</td>\n      <td>1</td>\n      <td>1</td>\n      <td>1</td>\n      <td>0</td>\n      <td>189.00</td>\n      <td>20.32</td>\n      <td>0</td>\n      <td>1</td>\n      <td>...</td>\n      <td>0.0</td>\n      <td>0.0</td>\n      <td>0.0</td>\n      <td>1.0</td>\n      <td>0.0</td>\n      <td>0.0</td>\n      <td>0.0</td>\n      <td>1.0</td>\n      <td>0.0</td>\n      <td>0.0</td>\n    </tr>\n    <tr>\n      <th>3</th>\n      <td>73</td>\n      <td>1</td>\n      <td>0</td>\n      <td>0</td>\n      <td>1</td>\n      <td>1</td>\n      <td>185.29</td>\n      <td>27.50</td>\n      <td>0</td>\n      <td>0</td>\n      <td>...</td>\n      <td>1.0</td>\n      <td>0.0</td>\n      <td>0.0</td>\n      <td>1.0</td>\n      <td>0.0</td>\n      <td>0.0</td>\n      <td>0.0</td>\n      <td>1.0</td>\n      <td>0.0</td>\n      <td>0.0</td>\n    </tr>\n    <tr>\n      <th>4</th>\n      <td>51</td>\n      <td>1</td>\n      <td>1</td>\n      <td>1</td>\n      <td>0</td>\n      <td>1</td>\n      <td>177.34</td>\n      <td>29.06</td>\n      <td>0</td>\n      <td>1</td>\n      <td>...</td>\n      <td>0.0</td>\n      <td>0.0</td>\n      <td>0.0</td>\n      <td>0.0</td>\n      <td>1.0</td>\n      <td>0.0</td>\n      <td>0.0</td>\n      <td>0.0</td>\n      <td>0.0</td>\n      <td>1.0</td>\n    </tr>\n  </tbody>\n</table>\n<p>5 rows × 32 columns</p>\n</div>"
     },
     "execution_count": 200,
     "metadata": {},
     "output_type": "execute_result"
    }
   ],
   "source": [
    "\n",
    "binary_cols = ['Gender', 'Marital Status', 'Family History of Stroke','Residence Type','Diagnosis']\n",
    "for col in binary_cols:\n",
    "    df[col] = LabelEncoder().fit_transform(df[col])\n",
    "\n",
    "onehot_cols = ['Smoking Status', 'Alcohol Intake', 'Physical Activity','Dietary Habits','Work Type']\n",
    "encoder = OneHotEncoder(drop='first', sparse_output=False)  \n",
    "\n",
    "encoded_data = encoder.fit_transform(df[onehot_cols])\n",
    "encoded_df = pd.DataFrame(encoded_data, columns=encoder.get_feature_names_out(onehot_cols))\n",
    "\n",
    "df = df.drop(columns=onehot_cols)\n",
    "df = pd.concat([df, encoded_df], axis=1)\n",
    "\n",
    "df.head()\n"
   ]
  },
  {
   "cell_type": "code",
   "execution_count": 201,
   "metadata": {
    "ExecuteTime": {
     "end_time": "2025-02-09T23:32:09.049765900Z",
     "start_time": "2025-02-09T23:32:08.724794Z"
    }
   },
   "outputs": [
    {
     "name": "stdout",
     "output_type": "stream",
     "text": [
      "Categorical Data list : Index([], dtype='object')\n",
      "Numerical Data list : Index(['Age', 'Gender', 'Hypertension', 'Heart Disease', 'Marital Status',\n",
      "       'Residence Type', 'Average Glucose Level', 'Body Mass Index (BMI)',\n",
      "       'Stroke History', 'Family History of Stroke', 'Stress Levels',\n",
      "       'Diagnosis', 'HDL', 'LDL', 'Upper BP', 'Lower BP',\n",
      "       'Smoking Status_Formerly Smoked', 'Smoking Status_Non-smoker',\n",
      "       'Alcohol Intake_Never', 'Alcohol Intake_Rarely',\n",
      "       'Alcohol Intake_Social Drinker', 'Physical Activity_Low',\n",
      "       'Physical Activity_Moderate', 'Dietary Habits_Keto',\n",
      "       'Dietary Habits_Non-Vegetarian', 'Dietary Habits_Paleo',\n",
      "       'Dietary Habits_Pescatarian', 'Dietary Habits_Vegan',\n",
      "       'Dietary Habits_Vegetarian', 'Work Type_Never Worked',\n",
      "       'Work Type_Private', 'Work Type_Self-employed'],\n",
      "      dtype='object')\n"
     ]
    }
   ],
   "source": [
    "categorical_data = df.select_dtypes(include=['object'])\n",
    "numerical_data = df.select_dtypes(exclude=['object'])\n",
    "\n",
    "print(f'Categorical Data list : {categorical_data.columns}')\n",
    "print(f'Numerical Data list : {numerical_data.columns}')"
   ]
  },
  {
   "cell_type": "code",
   "execution_count": 202,
   "metadata": {
    "ExecuteTime": {
     "end_time": "2025-02-09T23:32:09.049765900Z",
     "start_time": "2025-02-09T23:32:08.772668900Z"
    }
   },
   "outputs": [
    {
     "data": {
      "text/plain": "Diagnosis\n0    7532\n1    7468\nName: count, dtype: int64"
     },
     "execution_count": 202,
     "metadata": {},
     "output_type": "execute_result"
    }
   ],
   "source": [
    "target='Diagnosis'\n",
    "y=df[target]\n",
    "X=df.drop(columns=[target], axis=1)\n",
    "y.value_counts()\n"
   ]
  },
  {
   "cell_type": "code",
   "execution_count": 203,
   "metadata": {
    "ExecuteTime": {
     "end_time": "2025-02-09T23:32:09.159118200Z",
     "start_time": "2025-02-09T23:32:08.813889600Z"
    }
   },
   "outputs": [],
   "source": [
    "\n",
    "X_train, X_test, y_train, y_test = train_test_split(X, y, test_size=0.25, random_state=42)\n",
    "#Scaling the data using Standard Scaler for 0 mean and unit variance\n",
    "scaler = StandardScaler()\n",
    "X_train_scaled = scaler.fit_transform(X_train)\n",
    "X_test_scaled = scaler.transform(X_test)\n"
   ]
  },
  {
   "cell_type": "code",
   "execution_count": 204,
   "outputs": [
    {
     "data": {
      "text/plain": "['Age',\n 'Alcohol Intake_Never',\n 'Alcohol Intake_Rarely',\n 'Alcohol Intake_Social Drinker',\n 'Average Glucose Level',\n 'Body Mass Index (BMI)',\n 'Dietary Habits_Keto',\n 'Dietary Habits_Non-Vegetarian',\n 'Dietary Habits_Paleo',\n 'Dietary Habits_Pescatarian',\n 'Dietary Habits_Vegan',\n 'Dietary Habits_Vegetarian',\n 'Family History of Stroke',\n 'Gender',\n 'HDL',\n 'Heart Disease',\n 'Hypertension',\n 'LDL',\n 'Lower BP',\n 'Marital Status',\n 'Physical Activity_Low',\n 'Physical Activity_Moderate',\n 'Residence Type',\n 'Smoking Status_Formerly Smoked',\n 'Smoking Status_Non-smoker',\n 'Stress Levels',\n 'Stroke History',\n 'Upper BP',\n 'Work Type_Never Worked',\n 'Work Type_Private',\n 'Work Type_Self-employed']"
     },
     "execution_count": 204,
     "metadata": {},
     "output_type": "execute_result"
    }
   ],
   "source": [
    "column_names = df.columns.difference([\"Diagnosis\"]).tolist()\n",
    "column_names"
   ],
   "metadata": {
    "collapsed": false,
    "ExecuteTime": {
     "end_time": "2025-02-09T23:32:09.525435600Z",
     "start_time": "2025-02-09T23:32:08.917207500Z"
    }
   }
  },
  {
   "cell_type": "code",
   "execution_count": 205,
   "outputs": [],
   "source": [
    "\n",
    "# # Combine scaled features and labels for training data\n",
    "X_train_df = pd.DataFrame(X_train_scaled, columns=column_names).reset_index(drop=True)\n",
    "y_train_df = pd.DataFrame(y_train, columns=['Diagnosis']).reset_index(drop=True)\n",
    "train_combined = pd.concat([X_train_df, y_train_df], axis=1)\n",
    "\n",
    "# Combine scaled features and labels for test data\n",
    "X_test_df = pd.DataFrame(X_test_scaled, columns=column_names).reset_index(drop=True)\n",
    "y_test_df = pd.DataFrame(y_test, columns=['Diagnosis']).reset_index(drop=True)\n",
    "test_combined = pd.concat([X_test_df, y_test_df], axis=1)\n",
    "\n",
    "# Save combined datasets to CSV\n",
    "train_combined.to_csv(\"../data/processed_data/train_data.csv\", index=False)\n",
    "test_combined.to_csv(\"../data/processed_data/test_data.csv\", index=False)"
   ],
   "metadata": {
    "collapsed": false,
    "ExecuteTime": {
     "end_time": "2025-02-09T23:32:15.319114100Z",
     "start_time": "2025-02-09T23:32:08.956056400Z"
    }
   }
  },
  {
   "cell_type": "code",
   "execution_count": 205,
   "outputs": [],
   "source": [],
   "metadata": {
    "collapsed": false,
    "ExecuteTime": {
     "end_time": "2025-02-09T23:32:15.333606800Z",
     "start_time": "2025-02-09T23:32:15.333606800Z"
    }
   }
  }
 ],
 "metadata": {
  "kernelspec": {
   "display_name": ".venv",
   "language": "python",
   "name": "python3"
  },
  "language_info": {
   "codemirror_mode": {
    "name": "ipython",
    "version": 3
   },
   "file_extension": ".py",
   "mimetype": "text/x-python",
   "name": "python",
   "nbconvert_exporter": "python",
   "pygments_lexer": "ipython3",
   "version": "3.13.1"
  }
 },
 "nbformat": 4,
 "nbformat_minor": 2
}
